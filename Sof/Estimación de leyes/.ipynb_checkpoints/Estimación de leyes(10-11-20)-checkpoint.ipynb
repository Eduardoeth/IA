{
 "cells": [
  {
   "cell_type": "code",
   "execution_count": null,
   "metadata": {},
   "outputs": [],
   "source": [
    "import pykrige #biblioteca de geoestadística\n",
    "import plotly.express as px #biblioteca de generación de gráficos\n",
    "import pykrige.kriging_tools as kt #herramientas para exportar e importar archivos .asc con biblioteca PyKrige\n",
    "from pykrige.ok import OrdinaryKriging #Kriging Ordinario con PyKrige\n",
    "import pandas as pd #biblioteca de manipulación y análisis de datos\n",
    "import numpy as np #biblioteca de funciones matemáticas\n",
    "import matplotlib.pyplot as plt #biblioteca de generación de gráficos\n",
    "plt.style.use('ggplot') #estilo para gráficos en matplotlib\n",
    "%matplotlib inline "
   ]
  },
  {
   "cell_type": "code",
   "execution_count": null,
   "metadata": {},
   "outputs": [],
   "source": [
    "carpeta = r\"C:/Users/eduth/Desktop/dataset_curso/dataset_curso/\" #carpeta contenedora del archivo de inicio\n",
    "archivo = \"dataset_3.xlsx\" \n",
    "\n",
    "df = pd.read_excel(carpeta + archivo) #lectura del archivo con Pandas"
   ]
  },
  {
   "cell_type": "code",
   "execution_count": null,
   "metadata": {},
   "outputs": [],
   "source": [
    "df.head(10)"
   ]
  },
  {
   "cell_type": "code",
   "execution_count": null,
   "metadata": {},
   "outputs": [],
   "source": [
    "df.shape # 90 filas, 3 columnas (90 datos y 3 variables)"
   ]
  },
  {
   "cell_type": "code",
   "execution_count": null,
   "metadata": {},
   "outputs": [],
   "source": [
    "D3 = pd.read_excel('dataset_3.xlsx') #, usecols=['Este [x]','Norte [y]','Ley [Cu %]']\n",
    "D3"
   ]
  },
  {
   "cell_type": "code",
   "execution_count": null,
   "metadata": {},
   "outputs": [],
   "source": [
    "continuous = 'Ley [Cu %]'\n",
    "flig=px.scatter(D3, x='Este [x]', y='Norte [y]', color=continuous, color_continuous_scale=px.colors.sequential.Jet, range_color=[0.0, D3[continuous].quantile(0.95)])\n",
    "flig.update_traces(marker=dict(size=5.0))\n",
    "flig.show()"
   ]
  },
  {
   "cell_type": "code",
   "execution_count": null,
   "metadata": {},
   "outputs": [],
   "source": [
    "D3.describe()"
   ]
  },
  {
   "cell_type": "code",
   "execution_count": null,
   "metadata": {},
   "outputs": [],
   "source": [
    "#variables convertidas a ndarray: Matriz Numpy\n",
    "\n",
    "x = np.array([df[\"Este [x]\"]])\n",
    "y = np.array([df[\"Norte [y]\"]])\n",
    "cu = np.array([df[\"Ley [Cu %]\"]])\n",
    "\n",
    "#ploteo:\n",
    "\n",
    "marker_size = 15\n",
    "plt.scatter(x, y, marker_size, cu, cmap=plt.cm.gist_rainbow) #el estilo gist_rainbow es algo mas convencional.\n",
    "plt.xlabel(\"Este [X]\")\n",
    "plt.ylabel(\"Norte [Y]\")\n",
    "plt.title(\"Visualización Cu [%]\")\n",
    "cbar = plt.colorbar()\n",
    "cbar.set_label(\"Cu [%]\", labelpad=+1)\n",
    "plt.show()"
   ]
  },
  {
   "cell_type": "code",
   "execution_count": null,
   "metadata": {},
   "outputs": [],
   "source": [
    "#Variograma experimental y variograma teórico.\n",
    "OK = OrdinaryKriging(x,y,cu, variogram_model='spherical', nlags=20, \n",
    "                     variogram_parameters= {'sill': 0.246, 'range': 210, 'nugget': 0}, enable_plotting=True, \n",
    "                     coordinates_type='euclidean')\n",
    "\n",
    "\n",
    "#Ajuste del variograma experimental con un modelo esférico, 20 pasos, una meseta de 0.22 (lo cual es la varianza de los datos)\n",
    "#, alcance de 175 metros y sin efecto pepita. "
   ]
  },
  {
   "cell_type": "code",
   "execution_count": null,
   "metadata": {},
   "outputs": [],
   "source": [
    "#Se crean 46 celdas de 10 metros desde min() - max() del eje X.\n",
    "grid_x = np.linspace(200, 660, num=46, endpoint=False) \n",
    "#Se crean 41 celdas de 10 metros desde min() - max() del eje Y.\n",
    "grid_y = np.linspace(200, 610, num=41, endpoint=False) "
   ]
  },
  {
   "cell_type": "code",
   "execution_count": null,
   "metadata": {},
   "outputs": [],
   "source": [
    "grid_x"
   ]
  },
  {
   "cell_type": "code",
   "execution_count": null,
   "metadata": {},
   "outputs": [],
   "source": [
    "grid_y"
   ]
  },
  {
   "cell_type": "code",
   "execution_count": null,
   "metadata": {},
   "outputs": [],
   "source": [
    "z, ss = OK.execute('grid', grid_x, grid_y) # z es la leyde cobre y ss la varianza\n",
    "plt.imshow(z)\n",
    "cbar.set_label(\"Cu [%]\", labelpad=+1)\n",
    "plt.show()"
   ]
  },
  {
   "cell_type": "code",
   "execution_count": null,
   "metadata": {},
   "outputs": [],
   "source": [
    "kt.write_asc_grid(grid_x, grid_y, z, filename=\"kriging_ordinario.asc\") #Kriging Ordinario en forma de matriz"
   ]
  },
  {
   "cell_type": "code",
   "execution_count": null,
   "metadata": {},
   "outputs": [],
   "source": [
    "kt.write_asc_grid(grid_x, grid_y, ss, filename=\"kriging_ordinario_var.asc\") #Varianza de estimación en forma de matriz"
   ]
  },
  {
   "cell_type": "code",
   "execution_count": null,
   "metadata": {},
   "outputs": [],
   "source": [
    "ascvar = pd.read_csv(carpeta + \"kriging_ordinario_var.asc\", header=None, skiprows=7, sep=\"\\s+\") \n",
    "ascvar.shape #comprobar que sean 41 filas y 46 columnas\n",
    "ascvar.to_csv(\"resultados_de_asc_var.csv\",index=False)\n",
    "ascvar"
   ]
  },
  {
   "cell_type": "code",
   "execution_count": null,
   "metadata": {},
   "outputs": [],
   "source": [
    "asc = pd.read_csv(carpeta + \"kriging_ordinario.asc\", header=None, skiprows=7, sep=\"\\s+\") \n",
    "asc.shape #comprobar que sean 41 filas y 46 columnas\n",
    "asc.to_csv(\"resultados_de_asc.csv\",index=False)\n",
    "asc"
   ]
  },
  {
   "cell_type": "code",
   "execution_count": null,
   "metadata": {},
   "outputs": [],
   "source": [
    "cu2 = np.array(asc) #Conversión pandas dataframe (dataframe tendremos los datos estructurados y \n",
    "                    #cada columna con su nombre correspondiente) a ndarray (arreglos multidimensionales \n",
    "                    #de alta eficiencia y diseñados para cálculo científico)\n",
    "cu2"
   ]
  },
  {
   "cell_type": "code",
   "execution_count": null,
   "metadata": {},
   "outputs": [],
   "source": [
    "fig = plt.figure(figsize=(17,15))\n",
    "\n",
    "plot1 = fig.add_subplot(131)\n",
    "a = plt.imshow(cu2, cmap=plt.cm.gist_rainbow, extent=[200,700,200,700]) #gist_rainbow , vmin=1.5\n",
    "plt.grid(True)\n",
    "cbar = fig.colorbar(a, orientation='horizontal', pad=0.05)\n",
    "cbar.set_label(\"Cu [%]\", labelpad=+1)\n",
    "plt.title('Kriging Ordinario Cu')\n",
    "plt.xlabel('Este [m]')\n",
    "plt.ylabel('Norte [m]')\n",
    "\n",
    "plt.show()"
   ]
  }
 ],
 "metadata": {
  "kernelspec": {
   "display_name": "Python 3",
   "language": "python",
   "name": "python3"
  },
  "language_info": {
   "codemirror_mode": {
    "name": "ipython",
    "version": 3
   },
   "file_extension": ".py",
   "mimetype": "text/x-python",
   "name": "python",
   "nbconvert_exporter": "python",
   "pygments_lexer": "ipython3",
   "version": "3.7.1"
  }
 },
 "nbformat": 4,
 "nbformat_minor": 2
}
