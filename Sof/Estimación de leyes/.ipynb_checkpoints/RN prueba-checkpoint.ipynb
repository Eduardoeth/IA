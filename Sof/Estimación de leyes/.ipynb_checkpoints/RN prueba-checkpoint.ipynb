{
 "cells": [
  {
   "cell_type": "code",
   "execution_count": 97,
   "metadata": {},
   "outputs": [],
   "source": [
    "import numpy as np\n",
    "import scipy as sc\n",
    "import pandas as pd #biblioteca de manipulación y análisis de datos\n",
    "import matplotlib.pyplot as plt\n",
    "from matplotlib import animation\n",
    "from IPython.core.display import display, HTML"
   ]
  },
  {
   "cell_type": "code",
   "execution_count": 98,
   "metadata": {},
   "outputs": [],
   "source": [
    "carpeta = r\"C:/Users/eduth/Desktop/dataset_curso/dataset_curso/\" #carpeta contenedora del archivo de inicio\n",
    "archivo = \"dataset_3.xlsx\" \n",
    "\n",
    "df = pd.read_excel(carpeta + archivo) #lectura del archivo con Pandas"
   ]
  },
  {
   "cell_type": "code",
   "execution_count": 99,
   "metadata": {},
   "outputs": [
    {
     "data": {
      "image/png": "[encoded data removed]",
      "text/plain": [
       "<Figure size 432x288 with 2 Axes>"
      ]
     },
     "metadata": {
      "needs_background": "light"
     },
     "output_type": "display_data"
    }
   ],
   "source": [
    "#variables convertidas a ndarray: Matriz Numpy\n",
    "\n",
    "x = np.array([df[\"Este [x]\"]])\n",
    "y = np.array([df[\"Norte [y]\"]])\n",
    "cu = np.array([df[\"Ley [Cu %]\"]])\n",
    "\n",
    "#ploteo:\n",
    "\n",
    "marker_size = 15\n",
    "plt.scatter(x, y, marker_size, cu, cmap=plt.cm.gist_rainbow) #el estilo gist_rainbow es algo mas convencional.\n",
    "plt.xlabel(\"Este [X]\")\n",
    "plt.ylabel(\"Norte [Y]\")\n",
    "plt.title(\"Visualización Cu [%]\")\n",
    "cbar = plt.colorbar()\n",
    "cbar.set_label(\"Cu [%]\", labelpad=+1)\n",
    "plt.show()"
   ]
  },
  {
   "cell_type": "code",
   "execution_count": 100,
   "metadata": {},
   "outputs": [],
   "source": [
    "file='x.txt'"
   ]
  },
  {
   "cell_type": "code",
   "execution_count": 101,
   "metadata": {},
   "outputs": [
    {
     "name": "stdout",
     "output_type": "stream",
     "text": [
      "(90, 2)\n"
     ]
    }
   ],
   "source": [
    "x_train=np.loadtxt(file,delimiter='\\t',skiprows=0,usecols=[0,1])\n",
    "print(x_train.shape)"
   ]
  },
  {
   "cell_type": "code",
   "execution_count": 102,
   "metadata": {},
   "outputs": [],
   "source": [
    "file2='y.txt'"
   ]
  },
  {
   "cell_type": "code",
   "execution_count": 103,
   "metadata": {},
   "outputs": [
    {
     "name": "stdout",
     "output_type": "stream",
     "text": [
      "[0.30769231 0.30769231 0.30769231 0.30769231 0.30769231 0.30769231\n",
      " 0.30769231 0.30769231 0.30769231 0.38461538 0.38461538 0.38461538\n",
      " 0.38461538 0.38461538 0.38461538 0.38461538 0.38461538 0.38461538\n",
      " 0.46153846 0.46153846 0.46153846 0.46153846 0.46153846 0.46153846\n",
      " 0.46153846 0.46153846 0.46153846 0.53846154 0.53846154 0.53846154\n",
      " 0.53846154 0.53846154 0.53846154 0.53846154 0.53846154 0.53846154\n",
      " 0.61538462 0.61538462 0.61538462 0.61538462 0.61538462 0.61538462\n",
      " 0.61538462 0.61538462 0.61538462 0.69230769 0.69230769 0.69230769\n",
      " 0.69230769 0.69230769 0.69230769 0.69230769 0.69230769 0.69230769\n",
      " 0.76923077 0.76923077 0.76923077 0.76923077 0.76923077 0.76923077\n",
      " 0.76923077 0.76923077 0.76923077 0.84615385 0.84615385 0.84615385\n",
      " 0.84615385 0.84615385 0.84615385 0.84615385 0.84615385 0.84615385\n",
      " 0.92307692 0.92307692 0.92307692 0.92307692 0.92307692 0.92307692\n",
      " 0.92307692 0.92307692 0.92307692 1.         1.         1.\n",
      " 1.         1.         1.         1.         1.         1.        ]\n",
      "(90,)\n"
     ]
    }
   ],
   "source": [
    "y_train=np.loadtxt(file,delimiter='\\t',skiprows=0,usecols=[0])\n",
    "print(y_train)\n",
    "print(y_train.shape)"
   ]
  },
  {
   "cell_type": "code",
   "execution_count": 120,
   "metadata": {},
   "outputs": [],
   "source": [
    "file3='x - test.txt'\n",
    "x_test=np.loadtxt(file3,delimiter='\\t',skiprows=0,usecols=[0,1])"
   ]
  },
  {
   "cell_type": "code",
   "execution_count": 121,
   "metadata": {},
   "outputs": [],
   "source": [
    "file4='y - test.txt'\n",
    "y_test=np.loadtxt(file4,delimiter='\\t',skiprows=0,usecols=[0])"
   ]
  },
  {
   "cell_type": "code",
   "execution_count": 122,
   "metadata": {},
   "outputs": [],
   "source": [
    "from tensorflow.keras import Sequential\n",
    "from keras.models import Sequential\n",
    "from keras.layers import Dense, Activation\n",
    "\n",
    "from sklearn.model_selection import train_test_split\n",
    "from sklearn.preprocessing import LabelEncoder\n",
    "from tensorflow.keras.layers import Dense\n",
    "from tensorflow.keras import Sequential"
   ]
  },
  {
   "cell_type": "code",
   "execution_count": 123,
   "metadata": {},
   "outputs": [
    {
     "data": {
      "text/plain": [
       "array([[0.30769231, 0.33333333],\n",
       "       [0.30769231, 0.41666667],\n",
       "       [0.30769231, 0.5       ]])"
      ]
     },
     "execution_count": 123,
     "metadata": {},
     "output_type": "execute_result"
    }
   ],
   "source": [
    "x_train[:3,:]"
   ]
  },
  {
   "cell_type": "code",
   "execution_count": 124,
   "metadata": {},
   "outputs": [
    {
     "data": {
      "text/plain": [
       "array([[0.84615385, 0.91666667],\n",
       "       [0.84615385, 1.        ],\n",
       "       [0.92307692, 0.33333333],\n",
       "       [0.92307692, 0.41666667],\n",
       "       [0.92307692, 0.5       ],\n",
       "       [0.92307692, 0.58333333],\n",
       "       [0.92307692, 0.66666667],\n",
       "       [0.92307692, 0.75      ],\n",
       "       [0.92307692, 0.83333333],\n",
       "       [0.92307692, 0.91666667],\n",
       "       [0.92307692, 1.        ],\n",
       "       [1.        , 0.33333333],\n",
       "       [1.        , 0.41666667],\n",
       "       [1.        , 0.5       ],\n",
       "       [1.        , 0.58333333],\n",
       "       [1.        , 0.66666667],\n",
       "       [1.        , 0.75      ],\n",
       "       [1.        , 0.83333333],\n",
       "       [1.        , 0.91666667],\n",
       "       [1.        , 1.        ]])"
      ]
     },
     "execution_count": 124,
     "metadata": {},
     "output_type": "execute_result"
    }
   ],
   "source": [
    "x_val = x_train[70:,]\n",
    "y_val = y_train[70:,]\n",
    "x_val"
   ]
  },
  {
   "cell_type": "code",
   "execution_count": 125,
   "metadata": {},
   "outputs": [],
   "source": [
    "model = Sequential()\n",
    "model.add(Dense(2, input_dim = 2, kernel_initializer='normal', activation='softsign'))"
   ]
  },
  {
   "cell_type": "code",
   "execution_count": 126,
   "metadata": {},
   "outputs": [],
   "source": [
    "model.add(Dense(6, kernel_initializer='normal', activation='softsign'))"
   ]
  },
  {
   "cell_type": "code",
   "execution_count": 127,
   "metadata": {},
   "outputs": [],
   "source": [
    "model.add(Dense(1, kernel_initializer='normal'))"
   ]
  },
  {
   "cell_type": "code",
   "execution_count": 128,
   "metadata": {},
   "outputs": [],
   "source": [
    "model.compile(loss='mean_squared_error', optimizer='adam', metrics=['mean_absolute_percentage_error'])"
   ]
  },
  {
   "cell_type": "code",
   "execution_count": 129,
   "metadata": {},
   "outputs": [
    {
     "name": "stdout",
     "output_type": "stream",
     "text": [
      "Train on 90 samples, validate on 20 samples\n",
      "Epoch 1/300\n",
      "90/90 [==============================] - 1s 6ms/sample - loss: 0.4695 - mean_absolute_percentage_error: 99.0489 - val_loss: 0.8825 - val_mean_absolute_percentage_error: 98.7385\n",
      "Epoch 2/300\n",
      "90/90 [==============================] - 0s 180us/sample - loss: 0.4535 - mean_absolute_percentage_error: 96.8687 - val_loss: 0.8578 - val_mean_absolute_percentage_error: 97.3391\n",
      "Epoch 3/300\n",
      "90/90 [==============================] - 0s 199us/sample - loss: 0.4360 - mean_absolute_percentage_error: 94.4368 - val_loss: 0.8301 - val_mean_absolute_percentage_error: 95.7464\n",
      "Epoch 4/300\n",
      "90/90 [==============================] - 0s 233us/sample - loss: 0.4162 - mean_absolute_percentage_error: 91.7060 - val_loss: 0.7991 - val_mean_absolute_percentage_error: 93.9291\n",
      "Epoch 5/300\n",
      "90/90 [==============================] - 0s 222us/sample - loss: 0.3949 - mean_absolute_percentage_error: 88.4317 - val_loss: 0.7639 - val_mean_absolute_percentage_error: 91.8259\n",
      "Epoch 6/300\n",
      "90/90 [==============================] - 0s 222us/sample - loss: 0.3706 - mean_absolute_percentage_error: 84.8563 - val_loss: 0.7252 - val_mean_absolute_percentage_error: 89.4490\n",
      "Epoch 7/300\n",
      "90/90 [==============================] - 0s 266us/sample - loss: 0.3442 - mean_absolute_percentage_error: 80.9302 - val_loss: 0.6829 - val_mean_absolute_percentage_error: 86.7808\n",
      "Epoch 8/300\n",
      "90/90 [==============================] - 0s 255us/sample - loss: 0.3162 - mean_absolute_percentage_error: 76.3923 - val_loss: 0.6373 - val_mean_absolute_percentage_error: 83.8152\n",
      "Epoch 9/300\n",
      "90/90 [==============================] - 0s 233us/sample - loss: 0.2875 - mean_absolute_percentage_error: 71.2872 - val_loss: 0.5889 - val_mean_absolute_percentage_error: 80.5435\n",
      "Epoch 10/300\n",
      "90/90 [==============================] - 0s 255us/sample - loss: 0.2573 - mean_absolute_percentage_error: 65.9989 - val_loss: 0.5397 - val_mean_absolute_percentage_error: 77.0750\n",
      "Epoch 11/300\n",
      "90/90 [==============================] - 0s 255us/sample - loss: 0.2287 - mean_absolute_percentage_error: 60.0388 - val_loss: 0.4891 - val_mean_absolute_percentage_error: 73.3387\n",
      "Epoch 12/300\n",
      "90/90 [==============================] - 0s 211us/sample - loss: 0.2000 - mean_absolute_percentage_error: 53.9406 - val_loss: 0.4397 - val_mean_absolute_percentage_error: 69.4978\n",
      "Epoch 13/300\n",
      "90/90 [==============================] - 0s 233us/sample - loss: 0.1731 - mean_absolute_percentage_error: 47.7578 - val_loss: 0.3922 - val_mean_absolute_percentage_error: 65.5976\n",
      "Epoch 14/300\n",
      "90/90 [==============================] - 0s 222us/sample - loss: 0.1488 - mean_absolute_percentage_error: 42.9752 - val_loss: 0.3472 - val_mean_absolute_percentage_error: 61.6743\n",
      "Epoch 15/300\n",
      "90/90 [==============================] - 0s 188us/sample - loss: 0.1265 - mean_absolute_percentage_error: 38.8719 - val_loss: 0.3061 - val_mean_absolute_percentage_error: 57.8630\n",
      "Epoch 16/300\n",
      "90/90 [==============================] - 0s 233us/sample - loss: 0.1078 - mean_absolute_percentage_error: 35.8007 - val_loss: 0.2687 - val_mean_absolute_percentage_error: 54.1557\n",
      "Epoch 17/300\n",
      "90/90 [==============================] - 0s 233us/sample - loss: 0.0922 - mean_absolute_percentage_error: 33.6695 - val_loss: 0.2352 - val_mean_absolute_percentage_error: 50.6122\n",
      "Epoch 18/300\n",
      "90/90 [==============================] - 0s 244us/sample - loss: 0.0791 - mean_absolute_percentage_error: 32.3095 - val_loss: 0.2064 - val_mean_absolute_percentage_error: 47.3534\n",
      "Epoch 19/300\n",
      "90/90 [==============================] - 0s 469us/sample - loss: 0.0693 - mean_absolute_percentage_error: 31.4032 - val_loss: 0.1811 - val_mean_absolute_percentage_error: 44.2891\n",
      "Epoch 20/300\n",
      "90/90 [==============================] - ETA: 0s - loss: 0.0415 - mean_absolute_percentage_error: 24.476 - 0s 277us/sample - loss: 0.0613 - mean_absolute_percentage_error: 31.0985 - val_loss: 0.1603 - val_mean_absolute_percentage_error: 41.6184\n",
      "Epoch 21/300\n",
      "90/90 [==============================] - 0s 199us/sample - loss: 0.0559 - mean_absolute_percentage_error: 31.1706 - val_loss: 0.1424 - val_mean_absolute_percentage_error: 39.1640\n",
      "Epoch 22/300\n",
      "90/90 [==============================] - 0s 233us/sample - loss: 0.0521 - mean_absolute_percentage_error: 31.6565 - val_loss: 0.1274 - val_mean_absolute_percentage_error: 36.9782\n",
      "Epoch 23/300\n",
      "90/90 [==============================] - 0s 245us/sample - loss: 0.0488 - mean_absolute_percentage_error: 31.6557 - val_loss: 0.1171 - val_mean_absolute_percentage_error: 35.4156\n",
      "Epoch 24/300\n",
      "90/90 [==============================] - 0s 233us/sample - loss: 0.0473 - mean_absolute_percentage_error: 32.0444 - val_loss: 0.1077 - val_mean_absolute_percentage_error: 33.9112\n",
      "Epoch 25/300\n",
      "90/90 [==============================] - 0s 177us/sample - loss: 0.0461 - mean_absolute_percentage_error: 32.4868 - val_loss: 0.1004 - val_mean_absolute_percentage_error: 32.6993\n",
      "Epoch 26/300\n",
      "90/90 [==============================] - 0s 233us/sample - loss: 0.0454 - mean_absolute_percentage_error: 32.8518 - val_loss: 0.0949 - val_mean_absolute_percentage_error: 31.7547\n",
      "Epoch 27/300\n",
      "90/90 [==============================] - 0s 222us/sample - loss: 0.0449 - mean_absolute_percentage_error: 33.1255 - val_loss: 0.0915 - val_mean_absolute_percentage_error: 31.1611\n",
      "Epoch 28/300\n",
      "90/90 [==============================] - 0s 258us/sample - loss: 0.0449 - mean_absolute_percentage_error: 33.6650 - val_loss: 0.0868 - val_mean_absolute_percentage_error: 30.3241\n",
      "Epoch 29/300\n",
      "90/90 [==============================] - 0s 233us/sample - loss: 0.0445 - mean_absolute_percentage_error: 33.8049 - val_loss: 0.0845 - val_mean_absolute_percentage_error: 29.9011\n",
      "Epoch 30/300\n",
      "90/90 [==============================] - 0s 211us/sample - loss: 0.0444 - mean_absolute_percentage_error: 33.8950 - val_loss: 0.0835 - val_mean_absolute_percentage_error: 29.7056\n",
      "Epoch 31/300\n",
      "90/90 [==============================] - 0s 211us/sample - loss: 0.0443 - mean_absolute_percentage_error: 33.9389 - val_loss: 0.0828 - val_mean_absolute_percentage_error: 29.5835\n",
      "Epoch 32/300\n",
      "90/90 [==============================] - 0s 244us/sample - loss: 0.0442 - mean_absolute_percentage_error: 33.9956 - val_loss: 0.0818 - val_mean_absolute_percentage_error: 29.3900\n",
      "Epoch 33/300\n",
      "90/90 [==============================] - 0s 244us/sample - loss: 0.0441 - mean_absolute_percentage_error: 34.0414 - val_loss: 0.0812 - val_mean_absolute_percentage_error: 29.2760\n",
      "Epoch 34/300\n",
      "90/90 [==============================] - 0s 222us/sample - loss: 0.0441 - mean_absolute_percentage_error: 34.0548 - val_loss: 0.0806 - val_mean_absolute_percentage_error: 29.1754\n",
      "Epoch 35/300\n",
      "90/90 [==============================] - 0s 211us/sample - loss: 0.0440 - mean_absolute_percentage_error: 34.0642 - val_loss: 0.0806 - val_mean_absolute_percentage_error: 29.1639\n",
      "Epoch 36/300\n",
      "90/90 [==============================] - 0s 222us/sample - loss: 0.0439 - mean_absolute_percentage_error: 34.0394 - val_loss: 0.0799 - val_mean_absolute_percentage_error: 29.0479\n",
      "Epoch 37/300\n",
      "90/90 [==============================] - 0s 233us/sample - loss: 0.0439 - mean_absolute_percentage_error: 34.1038 - val_loss: 0.0788 - val_mean_absolute_percentage_error: 28.8373\n",
      "Epoch 38/300\n",
      "90/90 [==============================] - 0s 244us/sample - loss: 0.0438 - mean_absolute_percentage_error: 34.0795 - val_loss: 0.0793 - val_mean_absolute_percentage_error: 28.9294\n",
      "Epoch 39/300\n",
      "90/90 [==============================] - 0s 244us/sample - loss: 0.0438 - mean_absolute_percentage_error: 34.0065 - val_loss: 0.0794 - val_mean_absolute_percentage_error: 28.9467\n",
      "Epoch 40/300\n",
      "90/90 [==============================] - 0s 199us/sample - loss: 0.0437 - mean_absolute_percentage_error: 34.0133 - val_loss: 0.0787 - val_mean_absolute_percentage_error: 28.8158\n",
      "Epoch 41/300\n",
      "90/90 [==============================] - 0s 210us/sample - loss: 0.0436 - mean_absolute_percentage_error: 34.0190 - val_loss: 0.0784 - val_mean_absolute_percentage_error: 28.7687\n",
      "Epoch 42/300\n",
      "90/90 [==============================] - 0s 199us/sample - loss: 0.0435 - mean_absolute_percentage_error: 33.9961 - val_loss: 0.0783 - val_mean_absolute_percentage_error: 28.7456\n",
      "Epoch 43/300\n"
     ]
    },
    {
     "name": "stdout",
     "output_type": "stream",
     "text": [
      "90/90 [==============================] - 0s 188us/sample - loss: 0.0435 - mean_absolute_percentage_error: 33.9887 - val_loss: 0.0774 - val_mean_absolute_percentage_error: 28.5709\n",
      "Epoch 44/300\n",
      "90/90 [==============================] - 0s 222us/sample - loss: 0.0434 - mean_absolute_percentage_error: 33.9882 - val_loss: 0.0776 - val_mean_absolute_percentage_error: 28.6038\n",
      "Epoch 45/300\n",
      "90/90 [==============================] - 0s 199us/sample - loss: 0.0433 - mean_absolute_percentage_error: 33.9320 - val_loss: 0.0775 - val_mean_absolute_percentage_error: 28.5870\n",
      "Epoch 46/300\n",
      "90/90 [==============================] - 0s 255us/sample - loss: 0.0432 - mean_absolute_percentage_error: 33.8963 - val_loss: 0.0773 - val_mean_absolute_percentage_error: 28.5512\n",
      "Epoch 47/300\n",
      "90/90 [==============================] - 0s 233us/sample - loss: 0.0431 - mean_absolute_percentage_error: 33.8564 - val_loss: 0.0777 - val_mean_absolute_percentage_error: 28.6391\n",
      "Epoch 48/300\n",
      "90/90 [==============================] - 0s 208us/sample - loss: 0.0431 - mean_absolute_percentage_error: 33.7649 - val_loss: 0.0780 - val_mean_absolute_percentage_error: 28.6888\n",
      "Epoch 49/300\n",
      "90/90 [==============================] - 0s 214us/sample - loss: 0.0430 - mean_absolute_percentage_error: 33.6905 - val_loss: 0.0786 - val_mean_absolute_percentage_error: 28.8075\n",
      "Epoch 50/300\n",
      "90/90 [==============================] - 0s 219us/sample - loss: 0.0429 - mean_absolute_percentage_error: 33.6547 - val_loss: 0.0774 - val_mean_absolute_percentage_error: 28.5794\n",
      "Epoch 51/300\n",
      "90/90 [==============================] - 0s 304us/sample - loss: 0.0428 - mean_absolute_percentage_error: 33.7311 - val_loss: 0.0762 - val_mean_absolute_percentage_error: 28.3561\n",
      "Epoch 52/300\n",
      "90/90 [==============================] - 0s 222us/sample - loss: 0.0428 - mean_absolute_percentage_error: 33.6579 - val_loss: 0.0774 - val_mean_absolute_percentage_error: 28.5883\n",
      "Epoch 53/300\n",
      "90/90 [==============================] - 0s 203us/sample - loss: 0.0426 - mean_absolute_percentage_error: 33.5725 - val_loss: 0.0768 - val_mean_absolute_percentage_error: 28.4791\n",
      "Epoch 54/300\n",
      "90/90 [==============================] - 0s 188us/sample - loss: 0.0425 - mean_absolute_percentage_error: 33.5686 - val_loss: 0.0766 - val_mean_absolute_percentage_error: 28.4288\n",
      "Epoch 55/300\n",
      "90/90 [==============================] - 0s 199us/sample - loss: 0.0424 - mean_absolute_percentage_error: 33.5492 - val_loss: 0.0765 - val_mean_absolute_percentage_error: 28.4097\n",
      "Epoch 56/300\n",
      "90/90 [==============================] - 0s 177us/sample - loss: 0.0423 - mean_absolute_percentage_error: 33.5279 - val_loss: 0.0757 - val_mean_absolute_percentage_error: 28.2683\n",
      "Epoch 57/300\n",
      "90/90 [==============================] - 0s 199us/sample - loss: 0.0422 - mean_absolute_percentage_error: 33.4298 - val_loss: 0.0769 - val_mean_absolute_percentage_error: 28.4949\n",
      "Epoch 58/300\n",
      "90/90 [==============================] - 0s 211us/sample - loss: 0.0421 - mean_absolute_percentage_error: 33.3351 - val_loss: 0.0763 - val_mean_absolute_percentage_error: 28.3860\n",
      "Epoch 59/300\n",
      "90/90 [==============================] - 0s 266us/sample - loss: 0.0420 - mean_absolute_percentage_error: 33.3634 - val_loss: 0.0750 - val_mean_absolute_percentage_error: 28.1320\n",
      "Epoch 60/300\n",
      "90/90 [==============================] - 0s 266us/sample - loss: 0.0419 - mean_absolute_percentage_error: 33.4148 - val_loss: 0.0744 - val_mean_absolute_percentage_error: 28.0219\n",
      "Epoch 61/300\n",
      "90/90 [==============================] - 0s 233us/sample - loss: 0.0420 - mean_absolute_percentage_error: 33.3027 - val_loss: 0.0770 - val_mean_absolute_percentage_error: 28.5230\n",
      "Epoch 62/300\n",
      "90/90 [==============================] - 0s 244us/sample - loss: 0.0416 - mean_absolute_percentage_error: 33.1334 - val_loss: 0.0756 - val_mean_absolute_percentage_error: 28.2428\n",
      "Epoch 63/300\n",
      "90/90 [==============================] - 0s 211us/sample - loss: 0.0415 - mean_absolute_percentage_error: 33.1679 - val_loss: 0.0746 - val_mean_absolute_percentage_error: 28.0592\n",
      "Epoch 64/300\n",
      "90/90 [==============================] - ETA: 0s - loss: 0.0500 - mean_absolute_percentage_error: 42.560 - 0s 299us/sample - loss: 0.0413 - mean_absolute_percentage_error: 33.1363 - val_loss: 0.0743 - val_mean_absolute_percentage_error: 27.9927\n",
      "Epoch 65/300\n",
      "90/90 [==============================] - 0s 454us/sample - loss: 0.0412 - mean_absolute_percentage_error: 33.0572 - val_loss: 0.0749 - val_mean_absolute_percentage_error: 28.1240\n",
      "Epoch 66/300\n",
      "90/90 [==============================] - 0s 188us/sample - loss: 0.0411 - mean_absolute_percentage_error: 32.9390 - val_loss: 0.0747 - val_mean_absolute_percentage_error: 28.0934\n",
      "Epoch 67/300\n",
      "90/90 [==============================] - 0s 199us/sample - loss: 0.0409 - mean_absolute_percentage_error: 32.9273 - val_loss: 0.0741 - val_mean_absolute_percentage_error: 27.9590\n",
      "Epoch 68/300\n",
      "90/90 [==============================] - 0s 211us/sample - loss: 0.0408 - mean_absolute_percentage_error: 32.8438 - val_loss: 0.0744 - val_mean_absolute_percentage_error: 28.0214\n",
      "Epoch 69/300\n",
      "90/90 [==============================] - 0s 211us/sample - loss: 0.0407 - mean_absolute_percentage_error: 32.8267 - val_loss: 0.0730 - val_mean_absolute_percentage_error: 27.7610\n",
      "Epoch 70/300\n",
      "90/90 [==============================] - 0s 199us/sample - loss: 0.0405 - mean_absolute_percentage_error: 32.7621 - val_loss: 0.0738 - val_mean_absolute_percentage_error: 27.9195\n",
      "Epoch 71/300\n",
      "90/90 [==============================] - 0s 199us/sample - loss: 0.0404 - mean_absolute_percentage_error: 32.6058 - val_loss: 0.0740 - val_mean_absolute_percentage_error: 27.9641\n",
      "Epoch 72/300\n",
      "90/90 [==============================] - 0s 199us/sample - loss: 0.0402 - mean_absolute_percentage_error: 32.6405 - val_loss: 0.0721 - val_mean_absolute_percentage_error: 27.5876\n",
      "Epoch 73/300\n",
      "90/90 [==============================] - 0s 244us/sample - loss: 0.0400 - mean_absolute_percentage_error: 32.6076 - val_loss: 0.0719 - val_mean_absolute_percentage_error: 27.5515\n",
      "Epoch 74/300\n",
      "90/90 [==============================] - 0s 199us/sample - loss: 0.0399 - mean_absolute_percentage_error: 32.6181 - val_loss: 0.0711 - val_mean_absolute_percentage_error: 27.3923\n",
      "Epoch 75/300\n",
      "90/90 [==============================] - 0s 188us/sample - loss: 0.0396 - mean_absolute_percentage_error: 32.4997 - val_loss: 0.0711 - val_mean_absolute_percentage_error: 27.3968\n",
      "Epoch 76/300\n",
      "90/90 [==============================] - 0s 211us/sample - loss: 0.0394 - mean_absolute_percentage_error: 32.3517 - val_loss: 0.0715 - val_mean_absolute_percentage_error: 27.4834\n",
      "Epoch 77/300\n",
      "90/90 [==============================] - 0s 221us/sample - loss: 0.0393 - mean_absolute_percentage_error: 32.2057 - val_loss: 0.0718 - val_mean_absolute_percentage_error: 27.5471\n",
      "Epoch 78/300\n",
      "90/90 [==============================] - 0s 211us/sample - loss: 0.0391 - mean_absolute_percentage_error: 32.1597 - val_loss: 0.0707 - val_mean_absolute_percentage_error: 27.3122\n",
      "Epoch 79/300\n",
      "90/90 [==============================] - 0s 199us/sample - loss: 0.0389 - mean_absolute_percentage_error: 32.0339 - val_loss: 0.0712 - val_mean_absolute_percentage_error: 27.4212\n",
      "Epoch 80/300\n",
      "90/90 [==============================] - 0s 222us/sample - loss: 0.0386 - mean_absolute_percentage_error: 31.9450 - val_loss: 0.0706 - val_mean_absolute_percentage_error: 27.3100\n",
      "Epoch 81/300\n",
      "90/90 [==============================] - 0s 211us/sample - loss: 0.0384 - mean_absolute_percentage_error: 31.8827 - val_loss: 0.0698 - val_mean_absolute_percentage_error: 27.1402\n",
      "Epoch 82/300\n",
      "90/90 [==============================] - 0s 222us/sample - loss: 0.0381 - mean_absolute_percentage_error: 31.7739 - val_loss: 0.0696 - val_mean_absolute_percentage_error: 27.1123\n",
      "Epoch 83/300\n",
      "90/90 [==============================] - 0s 211us/sample - loss: 0.0379 - mean_absolute_percentage_error: 31.6371 - val_loss: 0.0697 - val_mean_absolute_percentage_error: 27.1296\n",
      "Epoch 84/300\n",
      "90/90 [==============================] - 0s 199us/sample - loss: 0.0377 - mean_absolute_percentage_error: 31.5172 - val_loss: 0.0694 - val_mean_absolute_percentage_error: 27.0716\n",
      "Epoch 85/300\n"
     ]
    },
    {
     "name": "stdout",
     "output_type": "stream",
     "text": [
      "90/90 [==============================] - 0s 199us/sample - loss: 0.0374 - mean_absolute_percentage_error: 31.4754 - val_loss: 0.0678 - val_mean_absolute_percentage_error: 26.7506\n",
      "Epoch 86/300\n",
      "90/90 [==============================] - 0s 198us/sample - loss: 0.0371 - mean_absolute_percentage_error: 31.3306 - val_loss: 0.0680 - val_mean_absolute_percentage_error: 26.8046\n",
      "Epoch 87/300\n",
      "90/90 [==============================] - 0s 199us/sample - loss: 0.0368 - mean_absolute_percentage_error: 31.0814 - val_loss: 0.0687 - val_mean_absolute_percentage_error: 26.9425\n",
      "Epoch 88/300\n",
      "90/90 [==============================] - 0s 199us/sample - loss: 0.0365 - mean_absolute_percentage_error: 30.9121 - val_loss: 0.0681 - val_mean_absolute_percentage_error: 26.8420\n",
      "Epoch 89/300\n",
      "90/90 [==============================] - 0s 199us/sample - loss: 0.0362 - mean_absolute_percentage_error: 30.8144 - val_loss: 0.0669 - val_mean_absolute_percentage_error: 26.5874\n",
      "Epoch 90/300\n",
      "90/90 [==============================] - 0s 177us/sample - loss: 0.0359 - mean_absolute_percentage_error: 30.6939 - val_loss: 0.0673 - val_mean_absolute_percentage_error: 26.6709\n",
      "Epoch 91/300\n",
      "90/90 [==============================] - 0s 177us/sample - loss: 0.0355 - mean_absolute_percentage_error: 30.4901 - val_loss: 0.0657 - val_mean_absolute_percentage_error: 26.3560\n",
      "Epoch 92/300\n",
      "90/90 [==============================] - 0s 211us/sample - loss: 0.0351 - mean_absolute_percentage_error: 30.3857 - val_loss: 0.0653 - val_mean_absolute_percentage_error: 26.2807\n",
      "Epoch 93/300\n",
      "90/90 [==============================] - 0s 210us/sample - loss: 0.0347 - mean_absolute_percentage_error: 30.2577 - val_loss: 0.0638 - val_mean_absolute_percentage_error: 25.9582\n",
      "Epoch 94/300\n",
      "90/90 [==============================] - 0s 188us/sample - loss: 0.0344 - mean_absolute_percentage_error: 30.0328 - val_loss: 0.0643 - val_mean_absolute_percentage_error: 26.0707\n",
      "Epoch 95/300\n",
      "90/90 [==============================] - 0s 188us/sample - loss: 0.0339 - mean_absolute_percentage_error: 29.7310 - val_loss: 0.0643 - val_mean_absolute_percentage_error: 26.0861\n",
      "Epoch 96/300\n",
      "90/90 [==============================] - 0s 188us/sample - loss: 0.0334 - mean_absolute_percentage_error: 29.5570 - val_loss: 0.0627 - val_mean_absolute_percentage_error: 25.7530\n",
      "Epoch 97/300\n",
      "90/90 [==============================] - 0s 188us/sample - loss: 0.0330 - mean_absolute_percentage_error: 29.3248 - val_loss: 0.0624 - val_mean_absolute_percentage_error: 25.6991\n",
      "Epoch 98/300\n",
      "90/90 [==============================] - 0s 188us/sample - loss: 0.0325 - mean_absolute_percentage_error: 29.0933 - val_loss: 0.0616 - val_mean_absolute_percentage_error: 25.5288\n",
      "Epoch 99/300\n",
      "90/90 [==============================] - 0s 188us/sample - loss: 0.0319 - mean_absolute_percentage_error: 28.8405 - val_loss: 0.0607 - val_mean_absolute_percentage_error: 25.3438\n",
      "Epoch 100/300\n",
      "90/90 [==============================] - 0s 199us/sample - loss: 0.0314 - mean_absolute_percentage_error: 28.5694 - val_loss: 0.0600 - val_mean_absolute_percentage_error: 25.2073\n",
      "Epoch 101/300\n",
      "90/90 [==============================] - 0s 222us/sample - loss: 0.0308 - mean_absolute_percentage_error: 28.2428 - val_loss: 0.0593 - val_mean_absolute_percentage_error: 25.0602\n",
      "Epoch 102/300\n",
      "90/90 [==============================] - 0s 199us/sample - loss: 0.0302 - mean_absolute_percentage_error: 27.8774 - val_loss: 0.0595 - val_mean_absolute_percentage_error: 25.1194\n",
      "Epoch 103/300\n",
      "90/90 [==============================] - 0s 144us/sample - loss: 0.0295 - mean_absolute_percentage_error: 27.4520 - val_loss: 0.0578 - val_mean_absolute_percentage_error: 24.7359\n",
      "Epoch 104/300\n",
      "90/90 [==============================] - 0s 188us/sample - loss: 0.0288 - mean_absolute_percentage_error: 27.2213 - val_loss: 0.0560 - val_mean_absolute_percentage_error: 24.3552\n",
      "Epoch 105/300\n",
      "90/90 [==============================] - 0s 188us/sample - loss: 0.0281 - mean_absolute_percentage_error: 26.9846 - val_loss: 0.0541 - val_mean_absolute_percentage_error: 23.9275\n",
      "Epoch 106/300\n",
      "90/90 [==============================] - 0s 200us/sample - loss: 0.0273 - mean_absolute_percentage_error: 26.5204 - val_loss: 0.0545 - val_mean_absolute_percentage_error: 24.0407\n",
      "Epoch 107/300\n",
      "90/90 [==============================] - 0s 188us/sample - loss: 0.0265 - mean_absolute_percentage_error: 25.9862 - val_loss: 0.0528 - val_mean_absolute_percentage_error: 23.6475\n",
      "Epoch 108/300\n",
      "90/90 [==============================] - 0s 188us/sample - loss: 0.0256 - mean_absolute_percentage_error: 25.4872 - val_loss: 0.0522 - val_mean_absolute_percentage_error: 23.5354\n",
      "Epoch 109/300\n",
      "90/90 [==============================] - 0s 188us/sample - loss: 0.0248 - mean_absolute_percentage_error: 24.9578 - val_loss: 0.0508 - val_mean_absolute_percentage_error: 23.2155\n",
      "Epoch 110/300\n",
      "90/90 [==============================] - 0s 211us/sample - loss: 0.0237 - mean_absolute_percentage_error: 24.3467 - val_loss: 0.0494 - val_mean_absolute_percentage_error: 22.9000\n",
      "Epoch 111/300\n",
      "90/90 [==============================] - 0s 211us/sample - loss: 0.0228 - mean_absolute_percentage_error: 23.7539 - val_loss: 0.0483 - val_mean_absolute_percentage_error: 22.6386\n",
      "Epoch 112/300\n",
      "90/90 [==============================] - 0s 199us/sample - loss: 0.0217 - mean_absolute_percentage_error: 22.9215 - val_loss: 0.0479 - val_mean_absolute_percentage_error: 22.5538\n",
      "Epoch 113/300\n",
      "90/90 [==============================] - 0s 233us/sample - loss: 0.0207 - mean_absolute_percentage_error: 22.1880 - val_loss: 0.0459 - val_mean_absolute_percentage_error: 22.0934\n",
      "Epoch 114/300\n",
      "90/90 [==============================] - 0s 199us/sample - loss: 0.0197 - mean_absolute_percentage_error: 21.5218 - val_loss: 0.0445 - val_mean_absolute_percentage_error: 21.7422\n",
      "Epoch 115/300\n",
      "90/90 [==============================] - 0s 211us/sample - loss: 0.0185 - mean_absolute_percentage_error: 20.8016 - val_loss: 0.0412 - val_mean_absolute_percentage_error: 20.9085\n",
      "Epoch 116/300\n",
      "90/90 [==============================] - 0s 211us/sample - loss: 0.0174 - mean_absolute_percentage_error: 20.2191 - val_loss: 0.0388 - val_mean_absolute_percentage_error: 20.2712\n",
      "Epoch 117/300\n",
      "90/90 [==============================] - 0s 211us/sample - loss: 0.0163 - mean_absolute_percentage_error: 19.4764 - val_loss: 0.0376 - val_mean_absolute_percentage_error: 19.9577\n",
      "Epoch 118/300\n",
      "90/90 [==============================] - 0s 199us/sample - loss: 0.0153 - mean_absolute_percentage_error: 18.7243 - val_loss: 0.0346 - val_mean_absolute_percentage_error: 19.1279\n",
      "Epoch 119/300\n",
      "90/90 [==============================] - 0s 199us/sample - loss: 0.0142 - mean_absolute_percentage_error: 17.8909 - val_loss: 0.0338 - val_mean_absolute_percentage_error: 18.9319\n",
      "Epoch 120/300\n",
      "90/90 [==============================] - 0s 211us/sample - loss: 0.0132 - mean_absolute_percentage_error: 17.1109 - val_loss: 0.0308 - val_mean_absolute_percentage_error: 18.0425\n",
      "Epoch 121/300\n",
      "90/90 [==============================] - 0s 188us/sample - loss: 0.0122 - mean_absolute_percentage_error: 16.3401 - val_loss: 0.0295 - val_mean_absolute_percentage_error: 17.6664\n",
      "Epoch 122/300\n",
      "90/90 [==============================] - 0s 211us/sample - loss: 0.0113 - mean_absolute_percentage_error: 15.4148 - val_loss: 0.0280 - val_mean_absolute_percentage_error: 17.1943\n",
      "Epoch 123/300\n",
      "90/90 [==============================] - 0s 211us/sample - loss: 0.0104 - mean_absolute_percentage_error: 14.5607 - val_loss: 0.0260 - val_mean_absolute_percentage_error: 16.5454\n",
      "Epoch 124/300\n",
      "90/90 [==============================] - 0s 199us/sample - loss: 0.0096 - mean_absolute_percentage_error: 13.9742 - val_loss: 0.0232 - val_mean_absolute_percentage_error: 15.6061\n",
      "Epoch 125/300\n",
      "90/90 [==============================] - 0s 199us/sample - loss: 0.0088 - mean_absolute_percentage_error: 13.3628 - val_loss: 0.0214 - val_mean_absolute_percentage_error: 14.9684\n",
      "Epoch 126/300\n",
      "90/90 [==============================] - 0s 188us/sample - loss: 0.0081 - mean_absolute_percentage_error: 12.7711 - val_loss: 0.0195 - val_mean_absolute_percentage_error: 14.2715\n",
      "Epoch 127/300\n"
     ]
    },
    {
     "name": "stdout",
     "output_type": "stream",
     "text": [
      "90/90 [==============================] - 0s 222us/sample - loss: 0.0074 - mean_absolute_percentage_error: 11.9716 - val_loss: 0.0189 - val_mean_absolute_percentage_error: 14.0435\n",
      "Epoch 128/300\n",
      "90/90 [==============================] - 0s 222us/sample - loss: 0.0068 - mean_absolute_percentage_error: 11.0279 - val_loss: 0.0178 - val_mean_absolute_percentage_error: 13.5978\n",
      "Epoch 129/300\n",
      "90/90 [==============================] - 0s 188us/sample - loss: 0.0063 - mean_absolute_percentage_error: 10.5193 - val_loss: 0.0158 - val_mean_absolute_percentage_error: 12.8021\n",
      "Epoch 130/300\n",
      "90/90 [==============================] - 0s 202us/sample - loss: 0.0059 - mean_absolute_percentage_error: 10.2658 - val_loss: 0.0141 - val_mean_absolute_percentage_error: 12.0379\n",
      "Epoch 131/300\n",
      "90/90 [==============================] - 0s 188us/sample - loss: 0.0054 - mean_absolute_percentage_error: 9.6978 - val_loss: 0.0139 - val_mean_absolute_percentage_error: 11.9459\n",
      "Epoch 132/300\n",
      "90/90 [==============================] - 0s 188us/sample - loss: 0.0050 - mean_absolute_percentage_error: 9.3399 - val_loss: 0.0122 - val_mean_absolute_percentage_error: 11.1384\n",
      "Epoch 133/300\n",
      "90/90 [==============================] - 0s 211us/sample - loss: 0.0047 - mean_absolute_percentage_error: 9.0397 - val_loss: 0.0115 - val_mean_absolute_percentage_error: 10.7842\n",
      "Epoch 134/300\n",
      "90/90 [==============================] - 0s 199us/sample - loss: 0.0044 - mean_absolute_percentage_error: 8.7958 - val_loss: 0.0104 - val_mean_absolute_percentage_error: 10.2524\n",
      "Epoch 135/300\n",
      "90/90 [==============================] - 0s 188us/sample - loss: 0.0041 - mean_absolute_percentage_error: 8.4871 - val_loss: 0.0099 - val_mean_absolute_percentage_error: 9.9638\n",
      "Epoch 136/300\n",
      "90/90 [==============================] - 0s 199us/sample - loss: 0.0039 - mean_absolute_percentage_error: 8.2818 - val_loss: 0.0094 - val_mean_absolute_percentage_error: 9.6793\n",
      "Epoch 137/300\n",
      "90/90 [==============================] - 0s 199us/sample - loss: 0.0037 - mean_absolute_percentage_error: 8.0630 - val_loss: 0.0086 - val_mean_absolute_percentage_error: 9.2589\n",
      "Epoch 138/300\n",
      "90/90 [==============================] - 0s 188us/sample - loss: 0.0035 - mean_absolute_percentage_error: 7.9145 - val_loss: 0.0082 - val_mean_absolute_percentage_error: 9.0430\n",
      "Epoch 139/300\n",
      "90/90 [==============================] - 0s 211us/sample - loss: 0.0033 - mean_absolute_percentage_error: 7.7311 - val_loss: 0.0072 - val_mean_absolute_percentage_error: 8.4261\n",
      "Epoch 140/300\n",
      "90/90 [==============================] - 0s 199us/sample - loss: 0.0032 - mean_absolute_percentage_error: 7.6604 - val_loss: 0.0068 - val_mean_absolute_percentage_error: 8.1482\n",
      "Epoch 141/300\n",
      "90/90 [==============================] - 0s 188us/sample - loss: 0.0030 - mean_absolute_percentage_error: 7.4727 - val_loss: 0.0067 - val_mean_absolute_percentage_error: 8.0777\n",
      "Epoch 142/300\n",
      "90/90 [==============================] - 0s 188us/sample - loss: 0.0029 - mean_absolute_percentage_error: 7.2765 - val_loss: 0.0065 - val_mean_absolute_percentage_error: 7.9659\n",
      "Epoch 143/300\n",
      "90/90 [==============================] - 0s 222us/sample - loss: 0.0028 - mean_absolute_percentage_error: 7.1845 - val_loss: 0.0058 - val_mean_absolute_percentage_error: 7.4451\n",
      "Epoch 144/300\n",
      "90/90 [==============================] - 0s 199us/sample - loss: 0.0027 - mean_absolute_percentage_error: 7.1013 - val_loss: 0.0055 - val_mean_absolute_percentage_error: 7.2760\n",
      "Epoch 145/300\n",
      "90/90 [==============================] - 0s 211us/sample - loss: 0.0026 - mean_absolute_percentage_error: 6.9140 - val_loss: 0.0054 - val_mean_absolute_percentage_error: 7.2197\n",
      "Epoch 146/300\n",
      "90/90 [==============================] - 0s 199us/sample - loss: 0.0025 - mean_absolute_percentage_error: 6.7999 - val_loss: 0.0051 - val_mean_absolute_percentage_error: 6.9310\n",
      "Epoch 147/300\n",
      "90/90 [==============================] - 0s 199us/sample - loss: 0.0024 - mean_absolute_percentage_error: 6.7387 - val_loss: 0.0047 - val_mean_absolute_percentage_error: 6.6472\n",
      "Epoch 148/300\n",
      "90/90 [==============================] - 0s 199us/sample - loss: 0.0023 - mean_absolute_percentage_error: 6.5590 - val_loss: 0.0048 - val_mean_absolute_percentage_error: 6.7693\n",
      "Epoch 149/300\n",
      "90/90 [==============================] - 0s 233us/sample - loss: 0.0023 - mean_absolute_percentage_error: 6.4685 - val_loss: 0.0048 - val_mean_absolute_percentage_error: 6.7117\n",
      "Epoch 150/300\n",
      "90/90 [==============================] - 0s 332us/sample - loss: 0.0022 - mean_absolute_percentage_error: 6.3559 - val_loss: 0.0044 - val_mean_absolute_percentage_error: 6.4123\n",
      "Epoch 151/300\n",
      "90/90 [==============================] - 0s 388us/sample - loss: 0.0021 - mean_absolute_percentage_error: 6.2931 - val_loss: 0.0040 - val_mean_absolute_percentage_error: 6.0458\n",
      "Epoch 152/300\n",
      "90/90 [==============================] - 0s 244us/sample - loss: 0.0020 - mean_absolute_percentage_error: 6.2082 - val_loss: 0.0041 - val_mean_absolute_percentage_error: 6.2148\n",
      "Epoch 153/300\n",
      "90/90 [==============================] - 0s 202us/sample - loss: 0.0020 - mean_absolute_percentage_error: 6.0581 - val_loss: 0.0040 - val_mean_absolute_percentage_error: 6.1402\n",
      "Epoch 154/300\n",
      "90/90 [==============================] - 0s 248us/sample - loss: 0.0019 - mean_absolute_percentage_error: 5.9940 - val_loss: 0.0038 - val_mean_absolute_percentage_error: 5.9060\n",
      "Epoch 155/300\n",
      "90/90 [==============================] - 0s 212us/sample - loss: 0.0019 - mean_absolute_percentage_error: 5.8763 - val_loss: 0.0038 - val_mean_absolute_percentage_error: 5.9580\n",
      "Epoch 156/300\n",
      "90/90 [==============================] - 0s 211us/sample - loss: 0.0018 - mean_absolute_percentage_error: 5.7813 - val_loss: 0.0037 - val_mean_absolute_percentage_error: 5.8176\n",
      "Epoch 157/300\n",
      "90/90 [==============================] - 0s 211us/sample - loss: 0.0018 - mean_absolute_percentage_error: 5.7137 - val_loss: 0.0038 - val_mean_absolute_percentage_error: 5.9447\n",
      "Epoch 158/300\n",
      "90/90 [==============================] - 0s 222us/sample - loss: 0.0017 - mean_absolute_percentage_error: 5.6043 - val_loss: 0.0035 - val_mean_absolute_percentage_error: 5.7153\n",
      "Epoch 159/300\n",
      "90/90 [==============================] - 0s 199us/sample - loss: 0.0017 - mean_absolute_percentage_error: 5.5724 - val_loss: 0.0032 - val_mean_absolute_percentage_error: 5.3933\n",
      "Epoch 160/300\n",
      "90/90 [==============================] - 0s 288us/sample - loss: 0.0016 - mean_absolute_percentage_error: 5.5182 - val_loss: 0.0033 - val_mean_absolute_percentage_error: 5.5271\n",
      "Epoch 161/300\n",
      "90/90 [==============================] - 0s 244us/sample - loss: 0.0016 - mean_absolute_percentage_error: 5.3783 - val_loss: 0.0032 - val_mean_absolute_percentage_error: 5.3853\n",
      "Epoch 162/300\n",
      "90/90 [==============================] - 0s 288us/sample - loss: 0.0016 - mean_absolute_percentage_error: 5.3097 - val_loss: 0.0032 - val_mean_absolute_percentage_error: 5.4436\n",
      "Epoch 163/300\n",
      "90/90 [==============================] - 0s 299us/sample - loss: 0.0015 - mean_absolute_percentage_error: 5.2567 - val_loss: 0.0030 - val_mean_absolute_percentage_error: 5.1570\n",
      "Epoch 164/300\n",
      "90/90 [==============================] - 0s 299us/sample - loss: 0.0015 - mean_absolute_percentage_error: 5.1744 - val_loss: 0.0030 - val_mean_absolute_percentage_error: 5.1917\n",
      "Epoch 165/300\n",
      "90/90 [==============================] - 0s 266us/sample - loss: 0.0014 - mean_absolute_percentage_error: 5.1267 - val_loss: 0.0031 - val_mean_absolute_percentage_error: 5.3267\n",
      "Epoch 166/300\n",
      "90/90 [==============================] - 0s 199us/sample - loss: 0.0014 - mean_absolute_percentage_error: 5.0741 - val_loss: 0.0029 - val_mean_absolute_percentage_error: 5.1704\n",
      "Epoch 167/300\n",
      "90/90 [==============================] - 0s 244us/sample - loss: 0.0014 - mean_absolute_percentage_error: 4.9934 - val_loss: 0.0029 - val_mean_absolute_percentage_error: 5.1221\n",
      "Epoch 168/300\n",
      "90/90 [==============================] - 0s 255us/sample - loss: 0.0013 - mean_absolute_percentage_error: 4.9485 - val_loss: 0.0028 - val_mean_absolute_percentage_error: 4.9665\n",
      "Epoch 169/300\n",
      "90/90 [==============================] - 0s 277us/sample - loss: 0.0013 - mean_absolute_percentage_error: 4.9140 - val_loss: 0.0029 - val_mean_absolute_percentage_error: 5.0830\n"
     ]
    },
    {
     "name": "stdout",
     "output_type": "stream",
     "text": [
      "Epoch 170/300\n",
      "90/90 [==============================] - 0s 244us/sample - loss: 0.0013 - mean_absolute_percentage_error: 4.8911 - val_loss: 0.0025 - val_mean_absolute_percentage_error: 4.6874\n",
      "Epoch 171/300\n",
      "90/90 [==============================] - 0s 266us/sample - loss: 0.0013 - mean_absolute_percentage_error: 4.8048 - val_loss: 0.0027 - val_mean_absolute_percentage_error: 4.9402\n",
      "Epoch 172/300\n",
      "90/90 [==============================] - 0s 299us/sample - loss: 0.0013 - mean_absolute_percentage_error: 4.7651 - val_loss: 0.0029 - val_mean_absolute_percentage_error: 5.1643\n",
      "Epoch 173/300\n",
      "90/90 [==============================] - 0s 299us/sample - loss: 0.0012 - mean_absolute_percentage_error: 4.7265 - val_loss: 0.0025 - val_mean_absolute_percentage_error: 4.7476\n",
      "Epoch 174/300\n",
      "90/90 [==============================] - ETA: 0s - loss: 0.0015 - mean_absolute_percentage_error: 4.93 - 0s 266us/sample - loss: 0.0012 - mean_absolute_percentage_error: 4.6819 - val_loss: 0.0024 - val_mean_absolute_percentage_error: 4.5788\n",
      "Epoch 175/300\n",
      "90/90 [==============================] - 0s 255us/sample - loss: 0.0012 - mean_absolute_percentage_error: 4.6318 - val_loss: 0.0026 - val_mean_absolute_percentage_error: 4.7798\n",
      "Epoch 176/300\n",
      "90/90 [==============================] - 0s 199us/sample - loss: 0.0011 - mean_absolute_percentage_error: 4.5907 - val_loss: 0.0025 - val_mean_absolute_percentage_error: 4.6672\n",
      "Epoch 177/300\n",
      "90/90 [==============================] - 0s 255us/sample - loss: 0.0011 - mean_absolute_percentage_error: 4.5525 - val_loss: 0.0023 - val_mean_absolute_percentage_error: 4.5240\n",
      "Epoch 178/300\n",
      "90/90 [==============================] - 0s 211us/sample - loss: 0.0011 - mean_absolute_percentage_error: 4.5392 - val_loss: 0.0024 - val_mean_absolute_percentage_error: 4.6511\n",
      "Epoch 179/300\n",
      "90/90 [==============================] - 0s 255us/sample - loss: 0.0011 - mean_absolute_percentage_error: 4.4528 - val_loss: 0.0024 - val_mean_absolute_percentage_error: 4.5618\n",
      "Epoch 180/300\n",
      "90/90 [==============================] - 0s 244us/sample - loss: 0.0011 - mean_absolute_percentage_error: 4.4313 - val_loss: 0.0023 - val_mean_absolute_percentage_error: 4.4835\n",
      "Epoch 181/300\n",
      "90/90 [==============================] - 0s 211us/sample - loss: 0.0011 - mean_absolute_percentage_error: 4.4245 - val_loss: 0.0021 - val_mean_absolute_percentage_error: 4.3080\n",
      "Epoch 182/300\n",
      "90/90 [==============================] - 0s 266us/sample - loss: 0.0010 - mean_absolute_percentage_error: 4.3032 - val_loss: 0.0024 - val_mean_absolute_percentage_error: 4.6219\n",
      "Epoch 183/300\n",
      "90/90 [==============================] - 0s 255us/sample - loss: 0.0010 - mean_absolute_percentage_error: 4.2911 - val_loss: 0.0024 - val_mean_absolute_percentage_error: 4.6443\n",
      "Epoch 184/300\n",
      "90/90 [==============================] - 0s 266us/sample - loss: 9.7579e-04 - mean_absolute_percentage_error: 4.2075 - val_loss: 0.0021 - val_mean_absolute_percentage_error: 4.3289\n",
      "Epoch 185/300\n",
      "90/90 [==============================] - 0s 244us/sample - loss: 9.6783e-04 - mean_absolute_percentage_error: 4.2310 - val_loss: 0.0020 - val_mean_absolute_percentage_error: 4.0887\n",
      "Epoch 186/300\n",
      "90/90 [==============================] - 0s 233us/sample - loss: 9.4698e-04 - mean_absolute_percentage_error: 4.1959 - val_loss: 0.0021 - val_mean_absolute_percentage_error: 4.2841\n",
      "Epoch 187/300\n",
      "90/90 [==============================] - 0s 233us/sample - loss: 9.3626e-04 - mean_absolute_percentage_error: 4.1440 - val_loss: 0.0022 - val_mean_absolute_percentage_error: 4.3520\n",
      "Epoch 188/300\n",
      "90/90 [==============================] - 0s 288us/sample - loss: 9.1699e-04 - mean_absolute_percentage_error: 4.1030 - val_loss: 0.0021 - val_mean_absolute_percentage_error: 4.2748\n",
      "Epoch 189/300\n",
      "90/90 [==============================] - 0s 288us/sample - loss: 9.0107e-04 - mean_absolute_percentage_error: 4.1044 - val_loss: 0.0019 - val_mean_absolute_percentage_error: 4.0398\n",
      "Epoch 190/300\n",
      "90/90 [==============================] - 0s 233us/sample - loss: 8.8407e-04 - mean_absolute_percentage_error: 4.0339 - val_loss: 0.0019 - val_mean_absolute_percentage_error: 4.0728\n",
      "Epoch 191/300\n",
      "90/90 [==============================] - 0s 255us/sample - loss: 8.6282e-04 - mean_absolute_percentage_error: 3.9767 - val_loss: 0.0020 - val_mean_absolute_percentage_error: 4.1887\n",
      "Epoch 192/300\n",
      "90/90 [==============================] - 0s 293us/sample - loss: 8.5177e-04 - mean_absolute_percentage_error: 3.9445 - val_loss: 0.0020 - val_mean_absolute_percentage_error: 4.1336\n",
      "Epoch 193/300\n",
      "90/90 [==============================] - 0s 266us/sample - loss: 8.4132e-04 - mean_absolute_percentage_error: 3.9275 - val_loss: 0.0020 - val_mean_absolute_percentage_error: 4.1238\n",
      "Epoch 194/300\n",
      "90/90 [==============================] - 0s 277us/sample - loss: 8.2583e-04 - mean_absolute_percentage_error: 3.8827 - val_loss: 0.0019 - val_mean_absolute_percentage_error: 3.9975\n",
      "Epoch 195/300\n",
      "90/90 [==============================] - 0s 244us/sample - loss: 8.2068e-04 - mean_absolute_percentage_error: 3.9037 - val_loss: 0.0018 - val_mean_absolute_percentage_error: 3.8849\n",
      "Epoch 196/300\n",
      "90/90 [==============================] - 0s 255us/sample - loss: 7.9847e-04 - mean_absolute_percentage_error: 3.8320 - val_loss: 0.0019 - val_mean_absolute_percentage_error: 4.0707\n",
      "Epoch 197/300\n",
      "90/90 [==============================] - 0s 222us/sample - loss: 7.8739e-04 - mean_absolute_percentage_error: 3.8011 - val_loss: 0.0018 - val_mean_absolute_percentage_error: 3.9238\n",
      "Epoch 198/300\n",
      "90/90 [==============================] - 0s 222us/sample - loss: 7.6948e-04 - mean_absolute_percentage_error: 3.7669 - val_loss: 0.0018 - val_mean_absolute_percentage_error: 3.8695\n",
      "Epoch 199/300\n",
      "90/90 [==============================] - 0s 233us/sample - loss: 7.5756e-04 - mean_absolute_percentage_error: 3.7449 - val_loss: 0.0017 - val_mean_absolute_percentage_error: 3.8305\n",
      "Epoch 200/300\n",
      "90/90 [==============================] - 0s 233us/sample - loss: 7.4578e-04 - mean_absolute_percentage_error: 3.7132 - val_loss: 0.0017 - val_mean_absolute_percentage_error: 3.7455\n",
      "Epoch 201/300\n",
      "90/90 [==============================] - 0s 277us/sample - loss: 7.3345e-04 - mean_absolute_percentage_error: 3.6926 - val_loss: 0.0017 - val_mean_absolute_percentage_error: 3.7884\n",
      "Epoch 202/300\n",
      "90/90 [==============================] - 0s 288us/sample - loss: 7.2735e-04 - mean_absolute_percentage_error: 3.6767 - val_loss: 0.0018 - val_mean_absolute_percentage_error: 3.9108\n",
      "Epoch 203/300\n",
      "90/90 [==============================] - 0s 177us/sample - loss: 7.1942e-04 - mean_absolute_percentage_error: 3.6502 - val_loss: 0.0017 - val_mean_absolute_percentage_error: 3.8025\n",
      "Epoch 204/300\n",
      "90/90 [==============================] - 0s 244us/sample - loss: 7.0000e-04 - mean_absolute_percentage_error: 3.5908 - val_loss: 0.0016 - val_mean_absolute_percentage_error: 3.6714\n",
      "Epoch 205/300\n",
      "90/90 [==============================] - 0s 188us/sample - loss: 6.8882e-04 - mean_absolute_percentage_error: 3.5723 - val_loss: 0.0016 - val_mean_absolute_percentage_error: 3.6722\n",
      "Epoch 206/300\n",
      "90/90 [==============================] - 0s 233us/sample - loss: 6.8029e-04 - mean_absolute_percentage_error: 3.5562 - val_loss: 0.0016 - val_mean_absolute_percentage_error: 3.6505\n",
      "Epoch 207/300\n",
      "90/90 [==============================] - 0s 233us/sample - loss: 6.7173e-04 - mean_absolute_percentage_error: 3.5281 - val_loss: 0.0015 - val_mean_absolute_percentage_error: 3.5119\n",
      "Epoch 208/300\n",
      "90/90 [==============================] - 0s 244us/sample - loss: 6.6882e-04 - mean_absolute_percentage_error: 3.5293 - val_loss: 0.0016 - val_mean_absolute_percentage_error: 3.6440\n",
      "Epoch 209/300\n",
      "90/90 [==============================] - 0s 244us/sample - loss: 6.5241e-04 - mean_absolute_percentage_error: 3.4798 - val_loss: 0.0015 - val_mean_absolute_percentage_error: 3.5694\n",
      "Epoch 210/300\n",
      "90/90 [==============================] - 0s 255us/sample - loss: 6.4896e-04 - mean_absolute_percentage_error: 3.4608 - val_loss: 0.0015 - val_mean_absolute_percentage_error: 3.5408\n",
      "Epoch 211/300\n",
      "90/90 [==============================] - 0s 211us/sample - loss: 6.2865e-04 - mean_absolute_percentage_error: 3.4261 - val_loss: 0.0014 - val_mean_absolute_percentage_error: 3.4285\n"
     ]
    },
    {
     "name": "stdout",
     "output_type": "stream",
     "text": [
      "Epoch 212/300\n",
      "90/90 [==============================] - 0s 222us/sample - loss: 6.2627e-04 - mean_absolute_percentage_error: 3.4367 - val_loss: 0.0014 - val_mean_absolute_percentage_error: 3.3903\n",
      "Epoch 213/300\n",
      "90/90 [==============================] - 0s 244us/sample - loss: 6.1177e-04 - mean_absolute_percentage_error: 3.3873 - val_loss: 0.0014 - val_mean_absolute_percentage_error: 3.4306\n",
      "Epoch 214/300\n",
      "90/90 [==============================] - 0s 233us/sample - loss: 6.0599e-04 - mean_absolute_percentage_error: 3.3719 - val_loss: 0.0014 - val_mean_absolute_percentage_error: 3.4542\n",
      "Epoch 215/300\n",
      "90/90 [==============================] - 0s 199us/sample - loss: 5.9850e-04 - mean_absolute_percentage_error: 3.3371 - val_loss: 0.0014 - val_mean_absolute_percentage_error: 3.4222\n",
      "Epoch 216/300\n",
      "90/90 [==============================] - 0s 199us/sample - loss: 6.0614e-04 - mean_absolute_percentage_error: 3.3827 - val_loss: 0.0013 - val_mean_absolute_percentage_error: 3.2760\n",
      "Epoch 217/300\n",
      "90/90 [==============================] - 0s 222us/sample - loss: 5.9942e-04 - mean_absolute_percentage_error: 3.3447 - val_loss: 0.0015 - val_mean_absolute_percentage_error: 3.5566\n",
      "Epoch 218/300\n",
      "90/90 [==============================] - 0s 199us/sample - loss: 5.7050e-04 - mean_absolute_percentage_error: 3.2441 - val_loss: 0.0013 - val_mean_absolute_percentage_error: 3.2279\n",
      "Epoch 219/300\n",
      "90/90 [==============================] - 0s 233us/sample - loss: 5.6558e-04 - mean_absolute_percentage_error: 3.2512 - val_loss: 0.0012 - val_mean_absolute_percentage_error: 3.1352\n",
      "Epoch 220/300\n",
      "90/90 [==============================] - 0s 222us/sample - loss: 5.6258e-04 - mean_absolute_percentage_error: 3.2360 - val_loss: 0.0013 - val_mean_absolute_percentage_error: 3.2022\n",
      "Epoch 221/300\n",
      "90/90 [==============================] - 0s 255us/sample - loss: 5.5367e-04 - mean_absolute_percentage_error: 3.2312 - val_loss: 0.0012 - val_mean_absolute_percentage_error: 3.1442\n",
      "Epoch 222/300\n",
      "90/90 [==============================] - 0s 222us/sample - loss: 5.5798e-04 - mean_absolute_percentage_error: 3.2330 - val_loss: 0.0014 - val_mean_absolute_percentage_error: 3.4519\n",
      "Epoch 223/300\n",
      "90/90 [==============================] - 0s 222us/sample - loss: 5.4492e-04 - mean_absolute_percentage_error: 3.1943 - val_loss: 0.0011 - val_mean_absolute_percentage_error: 3.0211\n",
      "Epoch 224/300\n",
      "90/90 [==============================] - 0s 222us/sample - loss: 5.3701e-04 - mean_absolute_percentage_error: 3.2024 - val_loss: 0.0012 - val_mean_absolute_percentage_error: 3.1394\n",
      "Epoch 225/300\n",
      "90/90 [==============================] - 0s 244us/sample - loss: 5.2812e-04 - mean_absolute_percentage_error: 3.1579 - val_loss: 0.0012 - val_mean_absolute_percentage_error: 3.1305\n",
      "Epoch 226/300\n",
      "90/90 [==============================] - 0s 211us/sample - loss: 5.1923e-04 - mean_absolute_percentage_error: 3.1386 - val_loss: 0.0012 - val_mean_absolute_percentage_error: 3.1683\n",
      "Epoch 227/300\n",
      "90/90 [==============================] - 0s 177us/sample - loss: 5.1230e-04 - mean_absolute_percentage_error: 3.1038 - val_loss: 0.0012 - val_mean_absolute_percentage_error: 3.1803\n",
      "Epoch 228/300\n",
      "90/90 [==============================] - 0s 188us/sample - loss: 5.0738e-04 - mean_absolute_percentage_error: 3.0932 - val_loss: 0.0012 - val_mean_absolute_percentage_error: 3.0999\n",
      "Epoch 229/300\n",
      "90/90 [==============================] - 0s 177us/sample - loss: 5.0729e-04 - mean_absolute_percentage_error: 3.1001 - val_loss: 0.0011 - val_mean_absolute_percentage_error: 2.9309\n",
      "Epoch 230/300\n",
      "90/90 [==============================] - 0s 177us/sample - loss: 5.0027e-04 - mean_absolute_percentage_error: 3.0852 - val_loss: 0.0011 - val_mean_absolute_percentage_error: 3.0418\n",
      "Epoch 231/300\n",
      "90/90 [==============================] - 0s 177us/sample - loss: 4.9640e-04 - mean_absolute_percentage_error: 3.0506 - val_loss: 0.0012 - val_mean_absolute_percentage_error: 3.1002\n",
      "Epoch 232/300\n",
      "90/90 [==============================] - 0s 233us/sample - loss: 4.9004e-04 - mean_absolute_percentage_error: 3.0674 - val_loss: 0.0010 - val_mean_absolute_percentage_error: 2.8710\n",
      "Epoch 233/300\n",
      "90/90 [==============================] - 0s 211us/sample - loss: 4.8264e-04 - mean_absolute_percentage_error: 3.0111 - val_loss: 0.0011 - val_mean_absolute_percentage_error: 3.0238\n",
      "Epoch 234/300\n",
      "90/90 [==============================] - 0s 177us/sample - loss: 4.8525e-04 - mean_absolute_percentage_error: 3.0747 - val_loss: 9.9146e-04 - val_mean_absolute_percentage_error: 2.8027\n",
      "Epoch 235/300\n",
      "90/90 [==============================] - 0s 199us/sample - loss: 4.7459e-04 - mean_absolute_percentage_error: 2.9866 - val_loss: 0.0011 - val_mean_absolute_percentage_error: 3.0361\n",
      "Epoch 236/300\n",
      "90/90 [==============================] - 0s 188us/sample - loss: 4.6592e-04 - mean_absolute_percentage_error: 2.9780 - val_loss: 0.0010 - val_mean_absolute_percentage_error: 2.8662\n",
      "Epoch 237/300\n",
      "90/90 [==============================] - 0s 199us/sample - loss: 4.6043e-04 - mean_absolute_percentage_error: 2.9631 - val_loss: 0.0010 - val_mean_absolute_percentage_error: 2.9142\n",
      "Epoch 238/300\n",
      "90/90 [==============================] - 0s 199us/sample - loss: 4.5607e-04 - mean_absolute_percentage_error: 2.9680 - val_loss: 9.7434e-04 - val_mean_absolute_percentage_error: 2.7892\n",
      "Epoch 239/300\n",
      "90/90 [==============================] - 0s 199us/sample - loss: 4.5304e-04 - mean_absolute_percentage_error: 2.9483 - val_loss: 0.0010 - val_mean_absolute_percentage_error: 2.9168\n",
      "Epoch 240/300\n",
      "90/90 [==============================] - 0s 199us/sample - loss: 4.4665e-04 - mean_absolute_percentage_error: 2.9214 - val_loss: 9.8050e-04 - val_mean_absolute_percentage_error: 2.8114\n",
      "Epoch 241/300\n",
      "90/90 [==============================] - 0s 188us/sample - loss: 4.4272e-04 - mean_absolute_percentage_error: 2.9238 - val_loss: 9.2759e-04 - val_mean_absolute_percentage_error: 2.7097\n",
      "Epoch 242/300\n",
      "90/90 [==============================] - 0s 166us/sample - loss: 4.4055e-04 - mean_absolute_percentage_error: 2.9383 - val_loss: 9.3246e-04 - val_mean_absolute_percentage_error: 2.7251\n",
      "Epoch 243/300\n",
      "90/90 [==============================] - 0s 188us/sample - loss: 4.4206e-04 - mean_absolute_percentage_error: 2.9483 - val_loss: 0.0010 - val_mean_absolute_percentage_error: 2.8992\n",
      "Epoch 244/300\n",
      "90/90 [==============================] - 0s 188us/sample - loss: 4.3476e-04 - mean_absolute_percentage_error: 2.8959 - val_loss: 9.1162e-04 - val_mean_absolute_percentage_error: 2.6921\n",
      "Epoch 245/300\n",
      "90/90 [==============================] - 0s 188us/sample - loss: 4.3052e-04 - mean_absolute_percentage_error: 2.8853 - val_loss: 9.2034e-04 - val_mean_absolute_percentage_error: 2.7137\n",
      "Epoch 246/300\n",
      "90/90 [==============================] - 0s 188us/sample - loss: 4.2710e-04 - mean_absolute_percentage_error: 2.8745 - val_loss: 9.1068e-04 - val_mean_absolute_percentage_error: 2.6985\n",
      "Epoch 247/300\n",
      "90/90 [==============================] - 0s 199us/sample - loss: 4.2001e-04 - mean_absolute_percentage_error: 2.8690 - val_loss: 8.8427e-04 - val_mean_absolute_percentage_error: 2.6480\n",
      "Epoch 248/300\n",
      "90/90 [==============================] - 0s 199us/sample - loss: 4.1950e-04 - mean_absolute_percentage_error: 2.8394 - val_loss: 9.3121e-04 - val_mean_absolute_percentage_error: 2.7482\n",
      "Epoch 249/300\n",
      "90/90 [==============================] - 0s 188us/sample - loss: 4.1359e-04 - mean_absolute_percentage_error: 2.8441 - val_loss: 8.4368e-04 - val_mean_absolute_percentage_error: 2.5715\n",
      "Epoch 250/300\n",
      "90/90 [==============================] - 0s 177us/sample - loss: 4.1198e-04 - mean_absolute_percentage_error: 2.8742 - val_loss: 8.6564e-04 - val_mean_absolute_percentage_error: 2.6223\n",
      "Epoch 251/300\n",
      "90/90 [==============================] - 0s 188us/sample - loss: 4.0926e-04 - mean_absolute_percentage_error: 2.8130 - val_loss: 9.6384e-04 - val_mean_absolute_percentage_error: 2.8268\n",
      "Epoch 252/300\n",
      "90/90 [==============================] - 0s 199us/sample - loss: 4.0212e-04 - mean_absolute_percentage_error: 2.7697 - val_loss: 8.4001e-04 - val_mean_absolute_percentage_error: 2.5754\n",
      "Epoch 253/300\n",
      "90/90 [==============================] - 0s 199us/sample - loss: 4.0423e-04 - mean_absolute_percentage_error: 2.8379 - val_loss: 8.1945e-04 - val_mean_absolute_percentage_error: 2.5354\n"
     ]
    },
    {
     "name": "stdout",
     "output_type": "stream",
     "text": [
      "Epoch 254/300\n",
      "90/90 [==============================] - 0s 199us/sample - loss: 3.9717e-04 - mean_absolute_percentage_error: 2.7919 - val_loss: 8.3604e-04 - val_mean_absolute_percentage_error: 2.5760\n",
      "Epoch 255/300\n",
      "90/90 [==============================] - 0s 199us/sample - loss: 4.0244e-04 - mean_absolute_percentage_error: 2.8596 - val_loss: 7.6763e-04 - val_mean_absolute_percentage_error: 2.4292\n",
      "Epoch 256/300\n",
      "90/90 [==============================] - 0s 188us/sample - loss: 3.8638e-04 - mean_absolute_percentage_error: 2.7882 - val_loss: 8.6240e-04 - val_mean_absolute_percentage_error: 2.6406\n",
      "Epoch 257/300\n",
      "90/90 [==============================] - 0s 199us/sample - loss: 3.9065e-04 - mean_absolute_percentage_error: 2.7363 - val_loss: 8.7472e-04 - val_mean_absolute_percentage_error: 2.6700\n",
      "Epoch 258/300\n",
      "90/90 [==============================] - 0s 177us/sample - loss: 3.8931e-04 - mean_absolute_percentage_error: 2.7772 - val_loss: 7.3459e-04 - val_mean_absolute_percentage_error: 2.3665\n",
      "Epoch 259/300\n",
      "90/90 [==============================] - 0s 188us/sample - loss: 3.8033e-04 - mean_absolute_percentage_error: 2.7775 - val_loss: 7.8512e-04 - val_mean_absolute_percentage_error: 2.4855\n",
      "Epoch 260/300\n",
      "90/90 [==============================] - 0s 188us/sample - loss: 3.7942e-04 - mean_absolute_percentage_error: 2.7488 - val_loss: 7.9596e-04 - val_mean_absolute_percentage_error: 2.5141\n",
      "Epoch 261/300\n",
      "90/90 [==============================] - 0s 211us/sample - loss: 3.7750e-04 - mean_absolute_percentage_error: 2.7433 - val_loss: 7.5372e-04 - val_mean_absolute_percentage_error: 2.4224\n",
      "Epoch 262/300\n",
      "90/90 [==============================] - 0s 199us/sample - loss: 3.7407e-04 - mean_absolute_percentage_error: 2.7234 - val_loss: 7.8836e-04 - val_mean_absolute_percentage_error: 2.5017\n",
      "Epoch 263/300\n",
      "90/90 [==============================] - 0s 188us/sample - loss: 3.7266e-04 - mean_absolute_percentage_error: 2.7335 - val_loss: 7.5874e-04 - val_mean_absolute_percentage_error: 2.4408\n",
      "Epoch 264/300\n",
      "90/90 [==============================] - 0s 188us/sample - loss: 3.6964e-04 - mean_absolute_percentage_error: 2.7159 - val_loss: 7.2419e-04 - val_mean_absolute_percentage_error: 2.3657\n",
      "Epoch 265/300\n",
      "90/90 [==============================] - 0s 211us/sample - loss: 3.7066e-04 - mean_absolute_percentage_error: 2.7590 - val_loss: 7.2617e-04 - val_mean_absolute_percentage_error: 2.3731\n",
      "Epoch 266/300\n",
      "90/90 [==============================] - 0s 188us/sample - loss: 3.6192e-04 - mean_absolute_percentage_error: 2.6927 - val_loss: 7.8980e-04 - val_mean_absolute_percentage_error: 2.5211\n",
      "Epoch 267/300\n",
      "90/90 [==============================] - 0s 199us/sample - loss: 3.6798e-04 - mean_absolute_percentage_error: 2.7161 - val_loss: 6.9197e-04 - val_mean_absolute_percentage_error: 2.3002\n",
      "Epoch 268/300\n",
      "90/90 [==============================] - 0s 211us/sample - loss: 3.7175e-04 - mean_absolute_percentage_error: 2.6757 - val_loss: 8.1519e-04 - val_mean_absolute_percentage_error: 2.5818\n",
      "Epoch 269/300\n",
      "90/90 [==============================] - 0s 222us/sample - loss: 3.4875e-04 - mean_absolute_percentage_error: 2.6233 - val_loss: 6.4535e-04 - val_mean_absolute_percentage_error: 2.1921\n",
      "Epoch 270/300\n",
      "90/90 [==============================] - ETA: 0s - loss: 3.0616e-04 - mean_absolute_percentage_error: 2.27 - 0s 211us/sample - loss: 3.6165e-04 - mean_absolute_percentage_error: 2.7581 - val_loss: 7.0607e-04 - val_mean_absolute_percentage_error: 2.3430\n",
      "Epoch 271/300\n",
      "90/90 [==============================] - 0s 233us/sample - loss: 3.5855e-04 - mean_absolute_percentage_error: 2.6549 - val_loss: 7.4555e-04 - val_mean_absolute_percentage_error: 2.4369\n",
      "Epoch 272/300\n",
      "90/90 [==============================] - 0s 277us/sample - loss: 3.5330e-04 - mean_absolute_percentage_error: 2.6968 - val_loss: 6.1097e-04 - val_mean_absolute_percentage_error: 2.1149\n",
      "Epoch 273/300\n",
      "90/90 [==============================] - 0s 277us/sample - loss: 3.4526e-04 - mean_absolute_percentage_error: 2.6654 - val_loss: 7.3196e-04 - val_mean_absolute_percentage_error: 2.4122\n",
      "Epoch 274/300\n",
      "90/90 [==============================] - 0s 247us/sample - loss: 3.4896e-04 - mean_absolute_percentage_error: 2.5956 - val_loss: 7.7109e-04 - val_mean_absolute_percentage_error: 2.5023\n",
      "Epoch 275/300\n",
      "90/90 [==============================] - 0s 255us/sample - loss: 3.6569e-04 - mean_absolute_percentage_error: 2.7958 - val_loss: 5.8967e-04 - val_mean_absolute_percentage_error: 2.0733\n",
      "Epoch 276/300\n",
      "90/90 [==============================] - 0s 244us/sample - loss: 3.3885e-04 - mean_absolute_percentage_error: 2.5946 - val_loss: 7.5376e-04 - val_mean_absolute_percentage_error: 2.4704\n",
      "Epoch 277/300\n",
      "90/90 [==============================] - 0s 155us/sample - loss: 3.4896e-04 - mean_absolute_percentage_error: 2.6378 - val_loss: 6.1855e-04 - val_mean_absolute_percentage_error: 2.1508\n",
      "Epoch 278/300\n",
      "90/90 [==============================] - 0s 177us/sample - loss: 3.3874e-04 - mean_absolute_percentage_error: 2.6181 - val_loss: 6.7209e-04 - val_mean_absolute_percentage_error: 2.2873\n",
      "Epoch 279/300\n",
      "90/90 [==============================] - 0s 188us/sample - loss: 3.4230e-04 - mean_absolute_percentage_error: 2.6864 - val_loss: 5.8903e-04 - val_mean_absolute_percentage_error: 2.0850\n",
      "Epoch 280/300\n",
      "90/90 [==============================] - 0s 222us/sample - loss: 3.2714e-04 - mean_absolute_percentage_error: 2.6097 - val_loss: 6.9127e-04 - val_mean_absolute_percentage_error: 2.3371\n",
      "Epoch 281/300\n",
      "90/90 [==============================] - 0s 222us/sample - loss: 3.3969e-04 - mean_absolute_percentage_error: 2.5694 - val_loss: 6.7522e-04 - val_mean_absolute_percentage_error: 2.3014\n",
      "Epoch 282/300\n",
      "90/90 [==============================] - 0s 244us/sample - loss: 3.2903e-04 - mean_absolute_percentage_error: 2.5444 - val_loss: 6.7151e-04 - val_mean_absolute_percentage_error: 2.2948\n",
      "Epoch 283/300\n",
      "90/90 [==============================] - 0s 222us/sample - loss: 3.2531e-04 - mean_absolute_percentage_error: 2.5984 - val_loss: 5.4843e-04 - val_mean_absolute_percentage_error: 1.9983\n",
      "Epoch 284/300\n",
      "90/90 [==============================] - 0s 233us/sample - loss: 3.2650e-04 - mean_absolute_percentage_error: 2.6162 - val_loss: 6.2951e-04 - val_mean_absolute_percentage_error: 2.2005\n",
      "Epoch 285/300\n",
      "90/90 [==============================] - 0s 325us/sample - loss: 3.3385e-04 - mean_absolute_percentage_error: 2.5432 - val_loss: 7.0601e-04 - val_mean_absolute_percentage_error: 2.3848\n",
      "Epoch 286/300\n",
      "90/90 [==============================] - 0s 410us/sample - loss: 3.2408e-04 - mean_absolute_percentage_error: 2.5901 - val_loss: 5.2004e-04 - val_mean_absolute_percentage_error: 1.9346\n",
      "Epoch 287/300\n",
      "90/90 [==============================] - 0s 255us/sample - loss: 3.2177e-04 - mean_absolute_percentage_error: 2.5764 - val_loss: 6.2250e-04 - val_mean_absolute_percentage_error: 2.1883\n",
      "Epoch 288/300\n",
      "90/90 [==============================] - 0s 299us/sample - loss: 3.1776e-04 - mean_absolute_percentage_error: 2.5257 - val_loss: 6.2631e-04 - val_mean_absolute_percentage_error: 2.2020\n",
      "Epoch 289/300\n",
      "90/90 [==============================] - 0s 255us/sample - loss: 3.1276e-04 - mean_absolute_percentage_error: 2.5329 - val_loss: 5.5481e-04 - val_mean_absolute_percentage_error: 2.0312\n",
      "Epoch 290/300\n",
      "90/90 [==============================] - 0s 299us/sample - loss: 3.1119e-04 - mean_absolute_percentage_error: 2.5368 - val_loss: 5.9161e-04 - val_mean_absolute_percentage_error: 2.1214\n",
      "Epoch 291/300\n",
      "90/90 [==============================] - 0s 244us/sample - loss: 3.1069e-04 - mean_absolute_percentage_error: 2.5060 - val_loss: 6.1362e-04 - val_mean_absolute_percentage_error: 2.1764\n",
      "Epoch 292/300\n",
      "90/90 [==============================] - 0s 244us/sample - loss: 3.0955e-04 - mean_absolute_percentage_error: 2.4966 - val_loss: 5.8103e-04 - val_mean_absolute_percentage_error: 2.1024\n",
      "Epoch 293/300\n",
      "90/90 [==============================] - 0s 266us/sample - loss: 3.0737e-04 - mean_absolute_percentage_error: 2.5284 - val_loss: 5.6395e-04 - val_mean_absolute_percentage_error: 2.0622\n",
      "Epoch 294/300\n",
      "90/90 [==============================] - 0s 233us/sample - loss: 3.0429e-04 - mean_absolute_percentage_error: 2.5053 - val_loss: 5.5778e-04 - val_mean_absolute_percentage_error: 2.0500\n"
     ]
    },
    {
     "name": "stdout",
     "output_type": "stream",
     "text": [
      "Epoch 295/300\n",
      "90/90 [==============================] - 0s 321us/sample - loss: 3.0347e-04 - mean_absolute_percentage_error: 2.5034 - val_loss: 5.5862e-04 - val_mean_absolute_percentage_error: 2.0552\n",
      "Epoch 296/300\n",
      "90/90 [==============================] - 0s 199us/sample - loss: 3.0189e-04 - mean_absolute_percentage_error: 2.5018 - val_loss: 5.5026e-04 - val_mean_absolute_percentage_error: 2.0368\n",
      "Epoch 297/300\n",
      "90/90 [==============================] - 0s 222us/sample - loss: 2.9902e-04 - mean_absolute_percentage_error: 2.4819 - val_loss: 5.6133e-04 - val_mean_absolute_percentage_error: 2.0668\n",
      "Epoch 298/300\n",
      "90/90 [==============================] - 0s 199us/sample - loss: 3.0409e-04 - mean_absolute_percentage_error: 2.4645 - val_loss: 5.9096e-04 - val_mean_absolute_percentage_error: 2.1386\n",
      "Epoch 299/300\n",
      "90/90 [==============================] - 0s 188us/sample - loss: 2.9746e-04 - mean_absolute_percentage_error: 2.5322 - val_loss: 4.7475e-04 - val_mean_absolute_percentage_error: 1.8553\n",
      "Epoch 300/300\n",
      "90/90 [==============================] - 0s 222us/sample - loss: 2.9465e-04 - mean_absolute_percentage_error: 2.4984 - val_loss: 5.9532e-04 - val_mean_absolute_percentage_error: 2.1527\n"
     ]
    },
    {
     "data": {
      "text/plain": [
       "<tensorflow.python.keras.callbacks.History at 0x1db0ad600f0>"
      ]
     },
     "execution_count": 129,
     "metadata": {},
     "output_type": "execute_result"
    }
   ],
   "source": [
    "model.fit(x_train, y_train, batch_size=10,epochs=300, validation_data=(x_val, y_val))"
   ]
  },
  {
   "cell_type": "code",
   "execution_count": 130,
   "metadata": {},
   "outputs": [
    {
     "name": "stdout",
     "output_type": "stream",
     "text": [
      "\r",
      "15/15 [==============================] - 0s 133us/sample - loss: 0.2737 - mean_absolute_percentage_error: 153.5586\n"
     ]
    }
   ],
   "source": [
    "resultados=model.evaluate(x_test, y_test)"
   ]
  },
  {
   "cell_type": "code",
   "execution_count": 131,
   "metadata": {},
   "outputs": [
    {
     "name": "stdout",
     "output_type": "stream",
     "text": [
      "15/15 [==============================] - 0s 66us/sample - loss: 0.2737 - mean_absolute_percentage_error: 153.5586\n",
      "[0.27365317940711975, 153.55858]\n"
     ]
    }
   ],
   "source": [
    "print(model.evaluate(x_test, y_test))"
   ]
  },
  {
   "cell_type": "code",
   "execution_count": 132,
   "metadata": {},
   "outputs": [
    {
     "name": "stdout",
     "output_type": "stream",
     "text": [
      "['loss', 'mean_absolute_percentage_error']\n"
     ]
    }
   ],
   "source": [
    "print(model.metrics_names)"
   ]
  },
  {
   "cell_type": "code",
   "execution_count": 133,
   "metadata": {},
   "outputs": [
    {
     "name": "stdout",
     "output_type": "stream",
     "text": [
      "loss : 0.27365317940711975\n",
      "mean_absolute_percentage_error : 153.55858\n"
     ]
    }
   ],
   "source": [
    "for i in range(len(model.metrics_names)):\n",
    "    print(model.metrics_names[i],\":\",resultados[i])"
   ]
  },
  {
   "cell_type": "code",
   "execution_count": 145,
   "metadata": {},
   "outputs": [
    {
     "name": "stdout",
     "output_type": "stream",
     "text": [
      "[[0.91533256]\n",
      " [0.9123014 ]\n",
      " [0.9090861 ]\n",
      " [0.9056834 ]\n",
      " [0.9020896 ]\n",
      " [0.898301  ]\n",
      " [0.97736645]\n",
      " [0.9752703 ]\n",
      " [0.9730265 ]\n",
      " [0.9706328 ]\n",
      " [0.9680873 ]\n",
      " [0.9653877 ]\n",
      " [0.9625318 ]\n",
      " [0.9595165 ]\n",
      " [0.9563395 ]]\n"
     ]
    }
   ],
   "source": [
    "prediccion=model.predict(x_test)\n",
    "print(prediccion)"
   ]
  },
  {
   "cell_type": "code",
   "execution_count": 146,
   "metadata": {},
   "outputs": [
    {
     "data": {
      "text/plain": [
       "array([[0.9680873],\n",
       "       [0.9653877],\n",
       "       [0.9625318],\n",
       "       [0.9595165],\n",
       "       [0.9563395]], dtype=float32)"
      ]
     },
     "execution_count": 146,
     "metadata": {},
     "output_type": "execute_result"
    }
   ],
   "source": [
    "prediccion[10:]"
   ]
  },
  {
   "cell_type": "code",
   "execution_count": 147,
   "metadata": {},
   "outputs": [
    {
     "ename": "TypeError",
     "evalue": "'method' object is not subscriptable",
     "output_type": "error",
     "traceback": [
      "\u001b[1;31m---------------------------------------------------------------------------\u001b[0m",
      "\u001b[1;31mTypeError\u001b[0m                                 Traceback (most recent call last)",
      "\u001b[1;32m<ipython-input-147-94d2ddf0c12e>\u001b[0m in \u001b[0;36m<module>\u001b[1;34m\u001b[0m\n\u001b[1;32m----> 1\u001b[1;33m \u001b[0mprediccion\u001b[0m\u001b[1;33m=\u001b[0m\u001b[0mmodel\u001b[0m\u001b[1;33m.\u001b[0m\u001b[0mpredict\u001b[0m\u001b[1;33m[\u001b[0m\u001b[1;36m0.84615385\u001b[0m\u001b[1;33m,\u001b[0m \u001b[1;36m0.91666667\u001b[0m\u001b[1;33m]\u001b[0m\u001b[1;33m\u001b[0m\u001b[1;33m\u001b[0m\u001b[0m\n\u001b[0m",
      "\u001b[1;31mTypeError\u001b[0m: 'method' object is not subscriptable"
     ]
    }
   ],
   "source": [
    "prediccion=model.predict[0.84615385, 0.91666667]"
   ]
  },
  {
   "cell_type": "code",
   "execution_count": null,
   "metadata": {},
   "outputs": [],
   "source": []
  }
 ],
 "metadata": {
  "kernelspec": {
   "display_name": "Python 3",
   "language": "python",
   "name": "python3"
  },
  "language_info": {
   "codemirror_mode": {
    "name": "ipython",
    "version": 3
   },
   "file_extension": ".py",
   "mimetype": "text/x-python",
   "name": "python",
   "nbconvert_exporter": "python",
   "pygments_lexer": "ipython3",
   "version": "3.7.1"
  }
 },
 "nbformat": 4,
 "nbformat_minor": 2
}
