{
 "cells": [
  {
   "cell_type": "code",
   "execution_count": 4,
   "metadata": {},
   "outputs": [],
   "source": [
    "import numpy as np\n",
    "import pandas as pd #biblioteca de manipulación y análisis de datos\n",
    "import matplotlib.pyplot as plt"
   ]
  },
  {
   "cell_type": "code",
   "execution_count": 5,
   "metadata": {},
   "outputs": [],
   "source": [
    "carpeta = r\"C:/Users/eduth/Desktop/Tarea 6/Grupo1/\" #carpeta contenedora del archivo de inicio\n",
    "archivo = \"dataset_grupo1_2D.xlsx\" \n",
    "\n",
    "df = pd.read_excel(carpeta + archivo) #lectura del archivo con Pandas"
   ]
  },
  {
   "cell_type": "code",
   "execution_count": 6,
   "metadata": {},
   "outputs": [
    {
     "data": {
      "image/png": "[encoded data removed]",
      "text/plain": [
       "<Figure size 432x288 with 2 Axes>"
      ]
     },
     "metadata": {
      "needs_background": "light"
     },
     "output_type": "display_data"
    }
   ],
   "source": [
    "#variables convertidas a ndarray: Matriz Numpy\n",
    "\n",
    "x = np.array([df[\"Este [x]\"]])\n",
    "y = np.array([df[\"Norte [y]\"]])\n",
    "cu = np.array([df[\"Ley [Cu %]\"]])\n",
    "\n",
    "#ploteo:\n",
    "\n",
    "marker_size = 15\n",
    "plt.scatter(x, y, marker_size, cu, cmap=plt.cm.Blues) #el estilo gist_rainbow es algo mas convencional.\n",
    "plt.xlabel(\"Este [X]\")\n",
    "plt.ylabel(\"Norte [Y]\")\n",
    "plt.title(\"Visualización Cu [%]\")\n",
    "cbar = plt.colorbar()\n",
    "cbar.set_label(\"Cu [%]\", labelpad=+5)\n",
    "plt.show()"
   ]
  },
  {
   "cell_type": "code",
   "execution_count": 18,
   "metadata": {},
   "outputs": [],
   "source": [
    "file='x.txt'"
   ]
  },
  {
   "cell_type": "code",
   "execution_count": 19,
   "metadata": {},
   "outputs": [
    {
     "name": "stdout",
     "output_type": "stream",
     "text": [
      "(90, 2)\n"
     ]
    }
   ],
   "source": [
    "x_train=np.loadtxt(file,delimiter='\\t',skiprows=0,usecols=[0,1])\n",
    "print(x_train.shape)"
   ]
  },
  {
   "cell_type": "code",
   "execution_count": 6,
   "metadata": {},
   "outputs": [],
   "source": [
    "file2='y.txt'"
   ]
  },
  {
   "cell_type": "code",
   "execution_count": 7,
   "metadata": {},
   "outputs": [
    {
     "name": "stdout",
     "output_type": "stream",
     "text": [
      "[0.30769231 0.30769231 0.30769231 0.30769231 0.30769231 0.30769231\n",
      " 0.30769231 0.30769231 0.30769231 0.38461538 0.38461538 0.38461538\n",
      " 0.38461538 0.38461538 0.38461538 0.38461538 0.38461538 0.38461538\n",
      " 0.46153846 0.46153846 0.46153846 0.46153846 0.46153846 0.46153846\n",
      " 0.46153846 0.46153846 0.46153846 0.53846154 0.53846154 0.53846154\n",
      " 0.53846154 0.53846154 0.53846154 0.53846154 0.53846154 0.53846154\n",
      " 0.61538462 0.61538462 0.61538462 0.61538462 0.61538462 0.61538462\n",
      " 0.61538462 0.61538462 0.61538462 0.69230769 0.69230769 0.69230769\n",
      " 0.69230769 0.69230769 0.69230769 0.69230769 0.69230769 0.69230769\n",
      " 0.76923077 0.76923077 0.76923077 0.76923077 0.76923077 0.76923077\n",
      " 0.76923077 0.76923077 0.76923077 0.84615385 0.84615385 0.84615385\n",
      " 0.84615385 0.84615385 0.84615385 0.84615385 0.84615385 0.84615385\n",
      " 0.92307692 0.92307692 0.92307692 0.92307692 0.92307692 0.92307692\n",
      " 0.92307692 0.92307692 0.92307692 1.         1.         1.\n",
      " 1.         1.         1.         1.         1.         1.        ]\n",
      "(90,)\n"
     ]
    }
   ],
   "source": [
    "y_train=np.loadtxt(file,delimiter='\\t',skiprows=0,usecols=[0])\n",
    "print(y_train)\n",
    "print(y_train.shape)"
   ]
  },
  {
   "cell_type": "code",
   "execution_count": 8,
   "metadata": {},
   "outputs": [],
   "source": [
    "file3='x - test.txt'\n",
    "x_test=np.loadtxt(file3,delimiter='\\t',skiprows=0,usecols=[0,1])"
   ]
  },
  {
   "cell_type": "code",
   "execution_count": 9,
   "metadata": {},
   "outputs": [],
   "source": [
    "file4='y - test.txt'\n",
    "y_test=np.loadtxt(file4,delimiter='\\t',skiprows=0,usecols=[0])"
   ]
  },
  {
   "cell_type": "code",
   "execution_count": 12,
   "metadata": {},
   "outputs": [],
   "source": [
    "from tensorflow.keras import Sequential\n",
    "from keras.models import Sequential\n",
    "from keras.layers import Dense, Activation"
   ]
  },
  {
   "cell_type": "code",
   "execution_count": 13,
   "metadata": {},
   "outputs": [
    {
     "data": {
      "text/plain": [
       "array([[0.30769231, 0.33333333],\n",
       "       [0.30769231, 0.41666667],\n",
       "       [0.30769231, 0.5       ]])"
      ]
     },
     "execution_count": 13,
     "metadata": {},
     "output_type": "execute_result"
    }
   ],
   "source": [
    "x_train[:3,:]"
   ]
  },
  {
   "cell_type": "code",
   "execution_count": 14,
   "metadata": {},
   "outputs": [
    {
     "data": {
      "text/plain": [
       "array([[0.84615385, 0.91666667],\n",
       "       [0.84615385, 1.        ],\n",
       "       [0.92307692, 0.33333333],\n",
       "       [0.92307692, 0.41666667],\n",
       "       [0.92307692, 0.5       ],\n",
       "       [0.92307692, 0.58333333],\n",
       "       [0.92307692, 0.66666667],\n",
       "       [0.92307692, 0.75      ],\n",
       "       [0.92307692, 0.83333333],\n",
       "       [0.92307692, 0.91666667],\n",
       "       [0.92307692, 1.        ],\n",
       "       [1.        , 0.33333333],\n",
       "       [1.        , 0.41666667],\n",
       "       [1.        , 0.5       ],\n",
       "       [1.        , 0.58333333],\n",
       "       [1.        , 0.66666667],\n",
       "       [1.        , 0.75      ],\n",
       "       [1.        , 0.83333333],\n",
       "       [1.        , 0.91666667],\n",
       "       [1.        , 1.        ]])"
      ]
     },
     "execution_count": 14,
     "metadata": {},
     "output_type": "execute_result"
    }
   ],
   "source": [
    "x_val = x_train[70:,]\n",
    "y_val = y_train[70:,]\n",
    "x_val"
   ]
  },
  {
   "cell_type": "code",
   "execution_count": 15,
   "metadata": {},
   "outputs": [
    {
     "name": "stdout",
     "output_type": "stream",
     "text": [
      "WARNING:tensorflow:From C:\\Users\\eduth\\Anaconda3\\lib\\site-packages\\tensorflow\\python\\ops\\resource_variable_ops.py:435: colocate_with (from tensorflow.python.framework.ops) is deprecated and will be removed in a future version.\n",
      "Instructions for updating:\n",
      "Colocations handled automatically by placer.\n"
     ]
    }
   ],
   "source": [
    "model = Sequential()\n",
    "model.add(Dense(2, input_dim = 2, kernel_initializer='normal', activation='softsign'))"
   ]
  },
  {
   "cell_type": "code",
   "execution_count": 16,
   "metadata": {},
   "outputs": [],
   "source": [
    "model.add(Dense(6, kernel_initializer='normal', activation='softsign'))"
   ]
  },
  {
   "cell_type": "code",
   "execution_count": 17,
   "metadata": {},
   "outputs": [],
   "source": [
    "model.add(Dense(1, kernel_initializer='normal'))"
   ]
  },
  {
   "cell_type": "code",
   "execution_count": 18,
   "metadata": {},
   "outputs": [],
   "source": [
    "model.compile(loss='mean_squared_error', optimizer='adam', metrics=['mean_absolute_percentage_error'])"
   ]
  },
  {
   "cell_type": "code",
   "execution_count": 19,
   "metadata": {},
   "outputs": [
    {
     "name": "stdout",
     "output_type": "stream",
     "text": [
      "WARNING:tensorflow:From C:\\Users\\eduth\\Anaconda3\\lib\\site-packages\\tensorflow\\python\\ops\\math_ops.py:3066: to_int32 (from tensorflow.python.ops.math_ops) is deprecated and will be removed in a future version.\n",
      "Instructions for updating:\n",
      "Use tf.cast instead.\n",
      "Train on 90 samples, validate on 20 samples\n",
      "Epoch 1/300\n",
      "90/90 [==============================] - 0s 5ms/step - loss: 0.4695 - mean_absolute_percentage_error: 99.0896 - val_loss: 0.8832 - val_mean_absolute_percentage_error: 98.7781\n",
      "Epoch 2/300\n",
      "90/90 [==============================] - 0s 233us/step - loss: 0.4542 - mean_absolute_percentage_error: 97.0351 - val_loss: 0.8590 - val_mean_absolute_percentage_error: 97.4083\n",
      "Epoch 3/300\n",
      "90/90 [==============================] - 0s 488us/step - loss: 0.4367 - mean_absolute_percentage_error: 94.6607 - val_loss: 0.8316 - val_mean_absolute_percentage_error: 95.8330\n",
      "Epoch 4/300\n",
      "90/90 [==============================] - 0s 299us/step - loss: 0.4178 - mean_absolute_percentage_error: 91.8245 - val_loss: 0.8006 - val_mean_absolute_percentage_error: 94.0197\n",
      "Epoch 5/300\n",
      "90/90 [==============================] - 0s 222us/step - loss: 0.3964 - mean_absolute_percentage_error: 88.6834 - val_loss: 0.7660 - val_mean_absolute_percentage_error: 91.9477\n",
      "Epoch 6/300\n",
      "90/90 [==============================] - 0s 233us/step - loss: 0.3722 - mean_absolute_percentage_error: 85.1918 - val_loss: 0.7277 - val_mean_absolute_percentage_error: 89.6070\n",
      "Epoch 7/300\n",
      "90/90 [==============================] - 0s 222us/step - loss: 0.3466 - mean_absolute_percentage_error: 81.1432 - val_loss: 0.6852 - val_mean_absolute_percentage_error: 86.9317\n",
      "Epoch 8/300\n",
      "90/90 [==============================] - 0s 211us/step - loss: 0.3188 - mean_absolute_percentage_error: 76.6139 - val_loss: 0.6397 - val_mean_absolute_percentage_error: 83.9723\n",
      "Epoch 9/300\n",
      "90/90 [==============================] - 0s 177us/step - loss: 0.2892 - mean_absolute_percentage_error: 71.8105 - val_loss: 0.5923 - val_mean_absolute_percentage_error: 80.7755\n",
      "Epoch 10/300\n",
      "90/90 [==============================] - 0s 377us/step - loss: 0.2601 - mean_absolute_percentage_error: 66.3593 - val_loss: 0.5425 - val_mean_absolute_percentage_error: 77.2746\n",
      "Epoch 11/300\n",
      "90/90 [==============================] - 0s 122us/step - loss: 0.2306 - mean_absolute_percentage_error: 60.5216 - val_loss: 0.4926 - val_mean_absolute_percentage_error: 73.6043\n",
      "Epoch 12/300\n",
      "90/90 [==============================] - 0s 266us/step - loss: 0.2021 - mean_absolute_percentage_error: 54.5747 - val_loss: 0.4435 - val_mean_absolute_percentage_error: 69.8037\n",
      "Epoch 13/300\n",
      "90/90 [==============================] - 0s 144us/step - loss: 0.1747 - mean_absolute_percentage_error: 48.5076 - val_loss: 0.3969 - val_mean_absolute_percentage_error: 65.9918\n",
      "Epoch 14/300\n",
      "90/90 [==============================] - 0s 155us/step - loss: 0.1517 - mean_absolute_percentage_error: 43.5105 - val_loss: 0.3508 - val_mean_absolute_percentage_error: 61.9994\n",
      "Epoch 15/300\n",
      "90/90 [==============================] - 0s 133us/step - loss: 0.1289 - mean_absolute_percentage_error: 39.3301 - val_loss: 0.3096 - val_mean_absolute_percentage_error: 58.1968\n",
      "Epoch 16/300\n",
      "90/90 [==============================] - 0s 185us/step - loss: 0.1102 - mean_absolute_percentage_error: 36.2338 - val_loss: 0.2719 - val_mean_absolute_percentage_error: 54.4797\n",
      "Epoch 17/300\n",
      "90/90 [==============================] - 0s 166us/step - loss: 0.0930 - mean_absolute_percentage_error: 33.9096 - val_loss: 0.2401 - val_mean_absolute_percentage_error: 51.1419\n",
      "Epoch 18/300\n",
      "90/90 [==============================] - 0s 222us/step - loss: 0.0809 - mean_absolute_percentage_error: 32.2058 - val_loss: 0.2105 - val_mean_absolute_percentage_error: 47.8290\n",
      "Epoch 19/300\n",
      "90/90 [==============================] - 0s 166us/step - loss: 0.0708 - mean_absolute_percentage_error: 31.8455 - val_loss: 0.1844 - val_mean_absolute_percentage_error: 44.7096\n",
      "Epoch 20/300\n",
      "90/90 [==============================] - 0s 199us/step - loss: 0.0627 - mean_absolute_percentage_error: 31.2989 - val_loss: 0.1628 - val_mean_absolute_percentage_error: 41.9459\n",
      "Epoch 21/300\n",
      "90/90 [==============================] - 0s 144us/step - loss: 0.0567 - mean_absolute_percentage_error: 30.9687 - val_loss: 0.1451 - val_mean_absolute_percentage_error: 39.5381\n",
      "Epoch 22/300\n",
      "90/90 [==============================] - 0s 222us/step - loss: 0.0524 - mean_absolute_percentage_error: 31.3379 - val_loss: 0.1309 - val_mean_absolute_percentage_error: 37.4996\n",
      "Epoch 23/300\n",
      "90/90 [==============================] - 0s 144us/step - loss: 0.0496 - mean_absolute_percentage_error: 31.6945 - val_loss: 0.1191 - val_mean_absolute_percentage_error: 35.7161\n",
      "Epoch 24/300\n",
      "90/90 [==============================] - 0s 199us/step - loss: 0.0477 - mean_absolute_percentage_error: 32.0848 - val_loss: 0.1092 - val_mean_absolute_percentage_error: 34.1548\n",
      "Epoch 25/300\n",
      "90/90 [==============================] - 0s 155us/step - loss: 0.0464 - mean_absolute_percentage_error: 32.3627 - val_loss: 0.1018 - val_mean_absolute_percentage_error: 32.9316\n",
      "Epoch 26/300\n",
      "90/90 [==============================] - 0s 177us/step - loss: 0.0454 - mean_absolute_percentage_error: 32.7088 - val_loss: 0.0969 - val_mean_absolute_percentage_error: 32.0939\n",
      "Epoch 27/300\n",
      "90/90 [==============================] - 0s 188us/step - loss: 0.0450 - mean_absolute_percentage_error: 32.9961 - val_loss: 0.0923 - val_mean_absolute_percentage_error: 31.2982\n",
      "Epoch 28/300\n",
      "90/90 [==============================] - 0s 133us/step - loss: 0.0449 - mean_absolute_percentage_error: 33.4884 - val_loss: 0.0878 - val_mean_absolute_percentage_error: 30.4961\n",
      "Epoch 29/300\n",
      "90/90 [==============================] - 0s 177us/step - loss: 0.0445 - mean_absolute_percentage_error: 33.6512 - val_loss: 0.0859 - val_mean_absolute_percentage_error: 30.1442\n",
      "Epoch 30/300\n",
      "90/90 [==============================] - 0s 144us/step - loss: 0.0444 - mean_absolute_percentage_error: 33.7814 - val_loss: 0.0845 - val_mean_absolute_percentage_error: 29.8894\n",
      "Epoch 31/300\n",
      "90/90 [==============================] - 0s 83us/step - loss: 0.0443 - mean_absolute_percentage_error: 33.8896 - val_loss: 0.0827 - val_mean_absolute_percentage_error: 29.5578\n",
      "Epoch 32/300\n",
      "90/90 [==============================] - 0s 300us/step - loss: 0.0442 - mean_absolute_percentage_error: 33.9561 - val_loss: 0.0827 - val_mean_absolute_percentage_error: 29.5665\n",
      "Epoch 33/300\n",
      "90/90 [==============================] - 0s 144us/step - loss: 0.0441 - mean_absolute_percentage_error: 33.9601 - val_loss: 0.0812 - val_mean_absolute_percentage_error: 29.2865\n",
      "Epoch 34/300\n",
      "90/90 [==============================] - 0s 133us/step - loss: 0.0441 - mean_absolute_percentage_error: 34.0391 - val_loss: 0.0807 - val_mean_absolute_percentage_error: 29.1798\n",
      "Epoch 35/300\n",
      "90/90 [==============================] - 0s 188us/step - loss: 0.0440 - mean_absolute_percentage_error: 34.0418 - val_loss: 0.0801 - val_mean_absolute_percentage_error: 29.0687\n",
      "Epoch 36/300\n",
      "90/90 [==============================] - 0s 188us/step - loss: 0.0439 - mean_absolute_percentage_error: 34.0583 - val_loss: 0.0797 - val_mean_absolute_percentage_error: 29.0048\n",
      "Epoch 37/300\n",
      "90/90 [==============================] - 0s 133us/step - loss: 0.0439 - mean_absolute_percentage_error: 34.0403 - val_loss: 0.0798 - val_mean_absolute_percentage_error: 29.0159\n",
      "Epoch 38/300\n",
      "90/90 [==============================] - 0s 166us/step - loss: 0.0438 - mean_absolute_percentage_error: 34.0598 - val_loss: 0.0789 - val_mean_absolute_percentage_error: 28.8502\n",
      "Epoch 39/300\n",
      "90/90 [==============================] - 0s 133us/step - loss: 0.0438 - mean_absolute_percentage_error: 34.1234 - val_loss: 0.0780 - val_mean_absolute_percentage_error: 28.6815\n",
      "Epoch 40/300\n",
      "90/90 [==============================] - ETA: 0s - loss: 0.0426 - mean_absolute_percentage_error: 37.924 - 0s 133us/step - loss: 0.0437 - mean_absolute_percentage_error: 34.1058 - val_loss: 0.0779 - val_mean_absolute_percentage_error: 28.6616\n",
      "Epoch 41/300\n",
      "90/90 [==============================] - 0s 188us/step - loss: 0.0436 - mean_absolute_percentage_error: 34.0881 - val_loss: 0.0780 - val_mean_absolute_percentage_error: 28.6738\n",
      "Epoch 42/300\n",
      "90/90 [==============================] - 0s 155us/step - loss: 0.0435 - mean_absolute_percentage_error: 34.0138 - val_loss: 0.0783 - val_mean_absolute_percentage_error: 28.7449\n",
      "Epoch 43/300\n",
      "90/90 [==============================] - 0s 133us/step - loss: 0.0435 - mean_absolute_percentage_error: 33.9681 - val_loss: 0.0781 - val_mean_absolute_percentage_error: 28.7100\n",
      "Epoch 44/300\n",
      "90/90 [==============================] - 0s 177us/step - loss: 0.0434 - mean_absolute_percentage_error: 33.9113 - val_loss: 0.0789 - val_mean_absolute_percentage_error: 28.8600\n",
      "Epoch 45/300\n",
      "90/90 [==============================] - 0s 255us/step - loss: 0.0434 - mean_absolute_percentage_error: 33.8899 - val_loss: 0.0781 - val_mean_absolute_percentage_error: 28.7049\n",
      "Epoch 46/300\n",
      "90/90 [==============================] - 0s 166us/step - loss: 0.0433 - mean_absolute_percentage_error: 33.8350 - val_loss: 0.0790 - val_mean_absolute_percentage_error: 28.8850\n",
      "Epoch 47/300\n",
      "90/90 [==============================] - 0s 155us/step - loss: 0.0432 - mean_absolute_percentage_error: 33.7897 - val_loss: 0.0778 - val_mean_absolute_percentage_error: 28.6490\n",
      "Epoch 48/300\n",
      "90/90 [==============================] - 0s 211us/step - loss: 0.0431 - mean_absolute_percentage_error: 33.7845 - val_loss: 0.0779 - val_mean_absolute_percentage_error: 28.6638\n",
      "Epoch 49/300\n",
      "90/90 [==============================] - 0s 155us/step - loss: 0.0430 - mean_absolute_percentage_error: 33.7641 - val_loss: 0.0781 - val_mean_absolute_percentage_error: 28.7141\n",
      "Epoch 50/300\n",
      "90/90 [==============================] - 0s 244us/step - loss: 0.0429 - mean_absolute_percentage_error: 33.7260 - val_loss: 0.0773 - val_mean_absolute_percentage_error: 28.5592\n",
      "Epoch 51/300\n",
      "90/90 [==============================] - 0s 166us/step - loss: 0.0428 - mean_absolute_percentage_error: 33.6957 - val_loss: 0.0775 - val_mean_absolute_percentage_error: 28.6035\n",
      "Epoch 52/300\n",
      "90/90 [==============================] - 0s 244us/step - loss: 0.0429 - mean_absolute_percentage_error: 33.8206 - val_loss: 0.0761 - val_mean_absolute_percentage_error: 28.3265\n",
      "Epoch 53/300\n",
      "90/90 [==============================] - 0s 188us/step - loss: 0.0427 - mean_absolute_percentage_error: 33.6874 - val_loss: 0.0772 - val_mean_absolute_percentage_error: 28.5334\n",
      "Epoch 54/300\n",
      "90/90 [==============================] - 0s 177us/step - loss: 0.0426 - mean_absolute_percentage_error: 33.5568 - val_loss: 0.0774 - val_mean_absolute_percentage_error: 28.5820\n",
      "Epoch 55/300\n",
      "90/90 [==============================] - 0s 155us/step - loss: 0.0425 - mean_absolute_percentage_error: 33.5221 - val_loss: 0.0770 - val_mean_absolute_percentage_error: 28.5003\n",
      "Epoch 56/300\n",
      "90/90 [==============================] - 0s 199us/step - loss: 0.0424 - mean_absolute_percentage_error: 33.4590 - val_loss: 0.0774 - val_mean_absolute_percentage_error: 28.5808\n",
      "Epoch 57/300\n",
      "90/90 [==============================] - 0s 188us/step - loss: 0.0423 - mean_absolute_percentage_error: 33.4889 - val_loss: 0.0759 - val_mean_absolute_percentage_error: 28.2964\n",
      "Epoch 58/300\n",
      "90/90 [==============================] - 0s 177us/step - loss: 0.0422 - mean_absolute_percentage_error: 33.5175 - val_loss: 0.0755 - val_mean_absolute_percentage_error: 28.2238\n",
      "Epoch 59/300\n",
      "90/90 [==============================] - 0s 133us/step - loss: 0.0421 - mean_absolute_percentage_error: 33.4336 - val_loss: 0.0758 - val_mean_absolute_percentage_error: 28.2745\n",
      "Epoch 60/300\n",
      "90/90 [==============================] - 0s 177us/step - loss: 0.0420 - mean_absolute_percentage_error: 33.3679 - val_loss: 0.0759 - val_mean_absolute_percentage_error: 28.3069\n",
      "Epoch 61/300\n",
      "90/90 [==============================] - 0s 199us/step - loss: 0.0419 - mean_absolute_percentage_error: 33.2772 - val_loss: 0.0762 - val_mean_absolute_percentage_error: 28.3672\n",
      "Epoch 62/300\n",
      "90/90 [==============================] - 0s 211us/step - loss: 0.0418 - mean_absolute_percentage_error: 33.1707 - val_loss: 0.0770 - val_mean_absolute_percentage_error: 28.5179\n",
      "Epoch 63/300\n",
      "90/90 [==============================] - 0s 244us/step - loss: 0.0417 - mean_absolute_percentage_error: 33.1513 - val_loss: 0.0756 - val_mean_absolute_percentage_error: 28.2455\n",
      "Epoch 64/300\n",
      "90/90 [==============================] - 0s 166us/step - loss: 0.0415 - mean_absolute_percentage_error: 33.1188 - val_loss: 0.0756 - val_mean_absolute_percentage_error: 28.2411\n",
      "Epoch 65/300\n",
      "90/90 [==============================] - 0s 188us/step - loss: 0.0414 - mean_absolute_percentage_error: 33.1423 - val_loss: 0.0746 - val_mean_absolute_percentage_error: 28.0612\n",
      "Epoch 66/300\n",
      "90/90 [==============================] - 0s 188us/step - loss: 0.0413 - mean_absolute_percentage_error: 33.0451 - val_loss: 0.0752 - val_mean_absolute_percentage_error: 28.1761\n",
      "Epoch 67/300\n",
      "90/90 [==============================] - 0s 344us/step - loss: 0.0411 - mean_absolute_percentage_error: 32.9932 - val_loss: 0.0743 - val_mean_absolute_percentage_error: 28.0096\n",
      "Epoch 68/300\n",
      "90/90 [==============================] - 0s 155us/step - loss: 0.0410 - mean_absolute_percentage_error: 32.9306 - val_loss: 0.0745 - val_mean_absolute_percentage_error: 28.0513\n",
      "Epoch 69/300\n",
      "90/90 [==============================] - 0s 155us/step - loss: 0.0408 - mean_absolute_percentage_error: 32.8686 - val_loss: 0.0742 - val_mean_absolute_percentage_error: 27.9945\n",
      "Epoch 70/300\n",
      "90/90 [==============================] - 0s 199us/step - loss: 0.0407 - mean_absolute_percentage_error: 32.8574 - val_loss: 0.0736 - val_mean_absolute_percentage_error: 27.8742\n",
      "Epoch 71/300\n",
      "90/90 [==============================] - 0s 266us/step - loss: 0.0406 - mean_absolute_percentage_error: 32.7657 - val_loss: 0.0733 - val_mean_absolute_percentage_error: 27.8221\n",
      "Epoch 72/300\n",
      "90/90 [==============================] - 0s 244us/step - loss: 0.0405 - mean_absolute_percentage_error: 32.7547 - val_loss: 0.0722 - val_mean_absolute_percentage_error: 27.6046\n",
      "Epoch 73/300\n",
      "90/90 [==============================] - 0s 166us/step - loss: 0.0402 - mean_absolute_percentage_error: 32.7041 - val_loss: 0.0726 - val_mean_absolute_percentage_error: 27.6872\n",
      "Epoch 74/300\n",
      "90/90 [==============================] - 0s 211us/step - loss: 0.0401 - mean_absolute_percentage_error: 32.5930 - val_loss: 0.0727 - val_mean_absolute_percentage_error: 27.6918\n",
      "Epoch 75/300\n",
      "90/90 [==============================] - 0s 244us/step - loss: 0.0399 - mean_absolute_percentage_error: 32.4851 - val_loss: 0.0726 - val_mean_absolute_percentage_error: 27.6853\n",
      "Epoch 76/300\n",
      "90/90 [==============================] - 0s 166us/step - loss: 0.0397 - mean_absolute_percentage_error: 32.4302 - val_loss: 0.0723 - val_mean_absolute_percentage_error: 27.6190\n",
      "Epoch 77/300\n",
      "90/90 [==============================] - 0s 222us/step - loss: 0.0396 - mean_absolute_percentage_error: 32.2877 - val_loss: 0.0732 - val_mean_absolute_percentage_error: 27.8020\n",
      "Epoch 78/300\n",
      "90/90 [==============================] - 0s 211us/step - loss: 0.0394 - mean_absolute_percentage_error: 32.1972 - val_loss: 0.0722 - val_mean_absolute_percentage_error: 27.6175\n",
      "Epoch 79/300\n",
      "90/90 [==============================] - 0s 188us/step - loss: 0.0392 - mean_absolute_percentage_error: 32.0837 - val_loss: 0.0723 - val_mean_absolute_percentage_error: 27.6442\n",
      "Epoch 80/300\n",
      "90/90 [==============================] - 0s 233us/step - loss: 0.0390 - mean_absolute_percentage_error: 32.0914 - val_loss: 0.0706 - val_mean_absolute_percentage_error: 27.2906\n",
      "Epoch 81/300\n",
      "90/90 [==============================] - 0s 166us/step - loss: 0.0387 - mean_absolute_percentage_error: 32.0058 - val_loss: 0.0705 - val_mean_absolute_percentage_error: 27.2789\n",
      "Epoch 82/300\n",
      "90/90 [==============================] - 0s 188us/step - loss: 0.0385 - mean_absolute_percentage_error: 31.9207 - val_loss: 0.0703 - val_mean_absolute_percentage_error: 27.2467\n",
      "Epoch 83/300\n",
      "90/90 [==============================] - 0s 266us/step - loss: 0.0383 - mean_absolute_percentage_error: 31.8030 - val_loss: 0.0704 - val_mean_absolute_percentage_error: 27.2679\n",
      "Epoch 84/300\n",
      "90/90 [==============================] - 0s 144us/step - loss: 0.0381 - mean_absolute_percentage_error: 31.7248 - val_loss: 0.0690 - val_mean_absolute_percentage_error: 26.9921\n",
      "Epoch 85/300\n"
     ]
    },
    {
     "name": "stdout",
     "output_type": "stream",
     "text": [
      "90/90 [==============================] - 0s 188us/step - loss: 0.0378 - mean_absolute_percentage_error: 31.6161 - val_loss: 0.0691 - val_mean_absolute_percentage_error: 27.0156\n",
      "Epoch 86/300\n",
      "90/90 [==============================] - 0s 133us/step - loss: 0.0376 - mean_absolute_percentage_error: 31.5907 - val_loss: 0.0679 - val_mean_absolute_percentage_error: 26.7641\n",
      "Epoch 87/300\n",
      "90/90 [==============================] - 0s 188us/step - loss: 0.0373 - mean_absolute_percentage_error: 31.3698 - val_loss: 0.0689 - val_mean_absolute_percentage_error: 26.9765\n",
      "Epoch 88/300\n",
      "90/90 [==============================] - 0s 188us/step - loss: 0.0370 - mean_absolute_percentage_error: 31.1245 - val_loss: 0.0694 - val_mean_absolute_percentage_error: 27.0861\n",
      "Epoch 89/300\n",
      "90/90 [==============================] - 0s 155us/step - loss: 0.0368 - mean_absolute_percentage_error: 31.0990 - val_loss: 0.0672 - val_mean_absolute_percentage_error: 26.6354\n",
      "Epoch 90/300\n",
      "90/90 [==============================] - 0s 244us/step - loss: 0.0365 - mean_absolute_percentage_error: 30.9208 - val_loss: 0.0684 - val_mean_absolute_percentage_error: 26.8911\n",
      "Epoch 91/300\n",
      "90/90 [==============================] - 0s 188us/step - loss: 0.0361 - mean_absolute_percentage_error: 30.6975 - val_loss: 0.0675 - val_mean_absolute_percentage_error: 26.7133\n",
      "Epoch 92/300\n",
      "90/90 [==============================] - 0s 199us/step - loss: 0.0357 - mean_absolute_percentage_error: 30.5348 - val_loss: 0.0672 - val_mean_absolute_percentage_error: 26.6605\n",
      "Epoch 93/300\n",
      "90/90 [==============================] - 0s 255us/step - loss: 0.0354 - mean_absolute_percentage_error: 30.5064 - val_loss: 0.0648 - val_mean_absolute_percentage_error: 26.1509\n",
      "Epoch 94/300\n",
      "90/90 [==============================] - 0s 199us/step - loss: 0.0350 - mean_absolute_percentage_error: 30.3674 - val_loss: 0.0647 - val_mean_absolute_percentage_error: 26.1485\n",
      "Epoch 95/300\n",
      "90/90 [==============================] - 0s 211us/step - loss: 0.0346 - mean_absolute_percentage_error: 30.1538 - val_loss: 0.0644 - val_mean_absolute_percentage_error: 26.0813\n",
      "Epoch 96/300\n",
      "90/90 [==============================] - 0s 288us/step - loss: 0.0342 - mean_absolute_percentage_error: 29.9319 - val_loss: 0.0636 - val_mean_absolute_percentage_error: 25.9104\n",
      "Epoch 97/300\n",
      "90/90 [==============================] - 0s 255us/step - loss: 0.0338 - mean_absolute_percentage_error: 29.6848 - val_loss: 0.0636 - val_mean_absolute_percentage_error: 25.9314\n",
      "Epoch 98/300\n",
      "90/90 [==============================] - 0s 155us/step - loss: 0.0333 - mean_absolute_percentage_error: 29.5578 - val_loss: 0.0620 - val_mean_absolute_percentage_error: 25.6033\n",
      "Epoch 99/300\n",
      "90/90 [==============================] - 0s 144us/step - loss: 0.0328 - mean_absolute_percentage_error: 29.3228 - val_loss: 0.0617 - val_mean_absolute_percentage_error: 25.5380\n",
      "Epoch 100/300\n",
      "90/90 [==============================] - 0s 399us/step - loss: 0.0323 - mean_absolute_percentage_error: 28.9286 - val_loss: 0.0623 - val_mean_absolute_percentage_error: 25.6741\n",
      "Epoch 101/300\n",
      "90/90 [==============================] - 0s 233us/step - loss: 0.0317 - mean_absolute_percentage_error: 28.6446 - val_loss: 0.0610 - val_mean_absolute_percentage_error: 25.4060\n",
      "Epoch 102/300\n",
      "90/90 [==============================] - 0s 233us/step - loss: 0.0312 - mean_absolute_percentage_error: 28.3618 - val_loss: 0.0605 - val_mean_absolute_percentage_error: 25.2924\n",
      "Epoch 103/300\n",
      "90/90 [==============================] - 0s 233us/step - loss: 0.0306 - mean_absolute_percentage_error: 28.0522 - val_loss: 0.0599 - val_mean_absolute_percentage_error: 25.1702\n",
      "Epoch 104/300\n",
      "90/90 [==============================] - 0s 355us/step - loss: 0.0300 - mean_absolute_percentage_error: 27.7731 - val_loss: 0.0579 - val_mean_absolute_percentage_error: 24.7510\n",
      "Epoch 105/300\n",
      "90/90 [==============================] - 0s 244us/step - loss: 0.0293 - mean_absolute_percentage_error: 27.4192 - val_loss: 0.0572 - val_mean_absolute_percentage_error: 24.6133\n",
      "Epoch 106/300\n",
      "90/90 [==============================] - 0s 344us/step - loss: 0.0286 - mean_absolute_percentage_error: 27.1210 - val_loss: 0.0559 - val_mean_absolute_percentage_error: 24.3264\n",
      "Epoch 107/300\n",
      "90/90 [==============================] - 0s 244us/step - loss: 0.0279 - mean_absolute_percentage_error: 26.6055 - val_loss: 0.0572 - val_mean_absolute_percentage_error: 24.6356\n",
      "Epoch 108/300\n",
      "90/90 [==============================] - 0s 188us/step - loss: 0.0271 - mean_absolute_percentage_error: 26.0433 - val_loss: 0.0553 - val_mean_absolute_percentage_error: 24.2100\n",
      "Epoch 109/300\n",
      "90/90 [==============================] - 0s 277us/step - loss: 0.0262 - mean_absolute_percentage_error: 25.6375 - val_loss: 0.0535 - val_mean_absolute_percentage_error: 23.8154\n",
      "Epoch 110/300\n",
      "90/90 [==============================] - 0s 410us/step - loss: 0.0253 - mean_absolute_percentage_error: 25.2302 - val_loss: 0.0516 - val_mean_absolute_percentage_error: 23.3704\n",
      "Epoch 111/300\n",
      "90/90 [==============================] - 0s 211us/step - loss: 0.0246 - mean_absolute_percentage_error: 25.0055 - val_loss: 0.0485 - val_mean_absolute_percentage_error: 22.6433\n",
      "Epoch 112/300\n",
      "90/90 [==============================] - 0s 211us/step - loss: 0.0235 - mean_absolute_percentage_error: 24.3517 - val_loss: 0.0485 - val_mean_absolute_percentage_error: 22.6615\n",
      "Epoch 113/300\n",
      "90/90 [==============================] - 0s 399us/step - loss: 0.0226 - mean_absolute_percentage_error: 23.6414 - val_loss: 0.0481 - val_mean_absolute_percentage_error: 22.5851\n",
      "Epoch 114/300\n",
      "90/90 [==============================] - 0s 188us/step - loss: 0.0215 - mean_absolute_percentage_error: 22.7859 - val_loss: 0.0473 - val_mean_absolute_percentage_error: 22.4077\n",
      "Epoch 115/300\n",
      "90/90 [==============================] - 0s 177us/step - loss: 0.0205 - mean_absolute_percentage_error: 22.1034 - val_loss: 0.0455 - val_mean_absolute_percentage_error: 21.9705\n",
      "Epoch 116/300\n",
      "90/90 [==============================] - 0s 199us/step - loss: 0.0194 - mean_absolute_percentage_error: 21.5255 - val_loss: 0.0424 - val_mean_absolute_percentage_error: 21.2066\n",
      "Epoch 117/300\n",
      "90/90 [==============================] - 0s 244us/step - loss: 0.0182 - mean_absolute_percentage_error: 20.7687 - val_loss: 0.0408 - val_mean_absolute_percentage_error: 20.7901\n",
      "Epoch 118/300\n",
      "90/90 [==============================] - 0s 166us/step - loss: 0.0170 - mean_absolute_percentage_error: 19.8605 - val_loss: 0.0397 - val_mean_absolute_percentage_error: 20.5193\n",
      "Epoch 119/300\n",
      "90/90 [==============================] - 0s 233us/step - loss: 0.0160 - mean_absolute_percentage_error: 18.8941 - val_loss: 0.0391 - val_mean_absolute_percentage_error: 20.3728\n",
      "Epoch 120/300\n",
      "90/90 [==============================] - 0s 144us/step - loss: 0.0149 - mean_absolute_percentage_error: 17.9325 - val_loss: 0.0356 - val_mean_absolute_percentage_error: 19.4194\n",
      "Epoch 121/300\n",
      "90/90 [==============================] - 0s 177us/step - loss: 0.0137 - mean_absolute_percentage_error: 17.3243 - val_loss: 0.0327 - val_mean_absolute_percentage_error: 18.6084\n",
      "Epoch 122/300\n",
      "90/90 [==============================] - 0s 177us/step - loss: 0.0126 - mean_absolute_percentage_error: 16.5604 - val_loss: 0.0309 - val_mean_absolute_percentage_error: 18.0648\n",
      "Epoch 123/300\n",
      "90/90 [==============================] - 0s 144us/step - loss: 0.0116 - mean_absolute_percentage_error: 15.5902 - val_loss: 0.0293 - val_mean_absolute_percentage_error: 17.5932\n",
      "Epoch 124/300\n",
      "90/90 [==============================] - 0s 133us/step - loss: 0.0107 - mean_absolute_percentage_error: 14.6476 - val_loss: 0.0269 - val_mean_absolute_percentage_error: 16.8316\n",
      "Epoch 125/300\n",
      "90/90 [==============================] - 0s 177us/step - loss: 0.0097 - mean_absolute_percentage_error: 13.9159 - val_loss: 0.0249 - val_mean_absolute_percentage_error: 16.1955\n",
      "Epoch 126/300\n",
      "90/90 [==============================] - 0s 177us/step - loss: 0.0089 - mean_absolute_percentage_error: 13.3183 - val_loss: 0.0223 - val_mean_absolute_percentage_error: 15.2849\n",
      "Epoch 127/300\n",
      "90/90 [==============================] - 0s 177us/step - loss: 0.0082 - mean_absolute_percentage_error: 12.6935 - val_loss: 0.0208 - val_mean_absolute_percentage_error: 14.7386\n",
      "Epoch 128/300\n"
     ]
    },
    {
     "name": "stdout",
     "output_type": "stream",
     "text": [
      "90/90 [==============================] - 0s 199us/step - loss: 0.0075 - mean_absolute_percentage_error: 11.7426 - val_loss: 0.0198 - val_mean_absolute_percentage_error: 14.4012\n",
      "Epoch 129/300\n",
      "90/90 [==============================] - 0s 199us/step - loss: 0.0070 - mean_absolute_percentage_error: 11.1857 - val_loss: 0.0174 - val_mean_absolute_percentage_error: 13.4604\n",
      "Epoch 130/300\n",
      "90/90 [==============================] - 0s 155us/step - loss: 0.0064 - mean_absolute_percentage_error: 10.4802 - val_loss: 0.0169 - val_mean_absolute_percentage_error: 13.2664\n",
      "Epoch 131/300\n",
      "90/90 [==============================] - 0s 199us/step - loss: 0.0058 - mean_absolute_percentage_error: 9.8497 - val_loss: 0.0151 - val_mean_absolute_percentage_error: 12.4876\n",
      "Epoch 132/300\n",
      "90/90 [==============================] - 0s 310us/step - loss: 0.0054 - mean_absolute_percentage_error: 9.5958 - val_loss: 0.0139 - val_mean_absolute_percentage_error: 11.9660\n",
      "Epoch 133/300\n",
      "90/90 [==============================] - 0s 155us/step - loss: 0.0050 - mean_absolute_percentage_error: 9.2479 - val_loss: 0.0125 - val_mean_absolute_percentage_error: 11.3152\n",
      "Epoch 134/300\n",
      "90/90 [==============================] - 0s 177us/step - loss: 0.0047 - mean_absolute_percentage_error: 9.0108 - val_loss: 0.0116 - val_mean_absolute_percentage_error: 10.8463\n",
      "Epoch 135/300\n",
      "90/90 [==============================] - 0s 211us/step - loss: 0.0044 - mean_absolute_percentage_error: 8.7303 - val_loss: 0.0110 - val_mean_absolute_percentage_error: 10.5486\n",
      "Epoch 136/300\n",
      "90/90 [==============================] - 0s 288us/step - loss: 0.0041 - mean_absolute_percentage_error: 8.3813 - val_loss: 0.0103 - val_mean_absolute_percentage_error: 10.2061\n",
      "Epoch 137/300\n",
      "90/90 [==============================] - 0s 332us/step - loss: 0.0039 - mean_absolute_percentage_error: 8.1684 - val_loss: 0.0093 - val_mean_absolute_percentage_error: 9.6632\n",
      "Epoch 138/300\n",
      "90/90 [==============================] - 0s 299us/step - loss: 0.0037 - mean_absolute_percentage_error: 8.0235 - val_loss: 0.0087 - val_mean_absolute_percentage_error: 9.3218\n",
      "Epoch 139/300\n",
      "90/90 [==============================] - 0s 310us/step - loss: 0.0035 - mean_absolute_percentage_error: 7.8093 - val_loss: 0.0082 - val_mean_absolute_percentage_error: 9.0116\n",
      "Epoch 140/300\n",
      "90/90 [==============================] - 0s 188us/step - loss: 0.0033 - mean_absolute_percentage_error: 7.7185 - val_loss: 0.0076 - val_mean_absolute_percentage_error: 8.6583\n",
      "Epoch 141/300\n",
      "90/90 [==============================] - 0s 177us/step - loss: 0.0032 - mean_absolute_percentage_error: 7.5075 - val_loss: 0.0075 - val_mean_absolute_percentage_error: 8.6179\n",
      "Epoch 142/300\n",
      "90/90 [==============================] - 0s 199us/step - loss: 0.0030 - mean_absolute_percentage_error: 7.3757 - val_loss: 0.0071 - val_mean_absolute_percentage_error: 8.3725\n",
      "Epoch 143/300\n",
      "90/90 [==============================] - 0s 266us/step - loss: 0.0029 - mean_absolute_percentage_error: 7.3312 - val_loss: 0.0062 - val_mean_absolute_percentage_error: 7.7176\n",
      "Epoch 144/300\n",
      "90/90 [==============================] - 0s 166us/step - loss: 0.0028 - mean_absolute_percentage_error: 7.2425 - val_loss: 0.0060 - val_mean_absolute_percentage_error: 7.5800\n",
      "Epoch 145/300\n",
      "90/90 [==============================] - 0s 166us/step - loss: 0.0027 - mean_absolute_percentage_error: 7.0174 - val_loss: 0.0061 - val_mean_absolute_percentage_error: 7.6961\n",
      "Epoch 146/300\n",
      "90/90 [==============================] - 0s 177us/step - loss: 0.0026 - mean_absolute_percentage_error: 6.9377 - val_loss: 0.0056 - val_mean_absolute_percentage_error: 7.3361\n",
      "Epoch 147/300\n",
      "90/90 [==============================] - 0s 188us/step - loss: 0.0025 - mean_absolute_percentage_error: 6.8186 - val_loss: 0.0054 - val_mean_absolute_percentage_error: 7.1845\n",
      "Epoch 148/300\n",
      "90/90 [==============================] - 0s 310us/step - loss: 0.0024 - mean_absolute_percentage_error: 6.7373 - val_loss: 0.0049 - val_mean_absolute_percentage_error: 6.8354\n",
      "Epoch 149/300\n",
      "90/90 [==============================] - 0s 199us/step - loss: 0.0024 - mean_absolute_percentage_error: 6.6651 - val_loss: 0.0047 - val_mean_absolute_percentage_error: 6.6926\n",
      "Epoch 150/300\n",
      "90/90 [==============================] - 0s 166us/step - loss: 0.0023 - mean_absolute_percentage_error: 6.5516 - val_loss: 0.0048 - val_mean_absolute_percentage_error: 6.7706\n",
      "Epoch 151/300\n",
      "90/90 [==============================] - 0s 277us/step - loss: 0.0023 - mean_absolute_percentage_error: 6.5209 - val_loss: 0.0044 - val_mean_absolute_percentage_error: 6.3787\n",
      "Epoch 152/300\n",
      "90/90 [==============================] - 0s 166us/step - loss: 0.0022 - mean_absolute_percentage_error: 6.4718 - val_loss: 0.0047 - val_mean_absolute_percentage_error: 6.6900\n",
      "Epoch 153/300\n",
      "90/90 [==============================] - 0s 199us/step - loss: 0.0021 - mean_absolute_percentage_error: 6.2615 - val_loss: 0.0041 - val_mean_absolute_percentage_error: 6.2136\n",
      "Epoch 154/300\n",
      "90/90 [==============================] - 0s 188us/step - loss: 0.0021 - mean_absolute_percentage_error: 6.1867 - val_loss: 0.0042 - val_mean_absolute_percentage_error: 6.2569\n",
      "Epoch 155/300\n",
      "90/90 [==============================] - 0s 155us/step - loss: 0.0020 - mean_absolute_percentage_error: 6.0939 - val_loss: 0.0040 - val_mean_absolute_percentage_error: 6.1349\n",
      "Epoch 156/300\n",
      "90/90 [==============================] - 0s 188us/step - loss: 0.0019 - mean_absolute_percentage_error: 6.0492 - val_loss: 0.0039 - val_mean_absolute_percentage_error: 6.0559\n",
      "Epoch 157/300\n",
      "90/90 [==============================] - 0s 177us/step - loss: 0.0019 - mean_absolute_percentage_error: 6.0050 - val_loss: 0.0035 - val_mean_absolute_percentage_error: 5.6769\n",
      "Epoch 158/300\n",
      "90/90 [==============================] - 0s 277us/step - loss: 0.0019 - mean_absolute_percentage_error: 5.9931 - val_loss: 0.0034 - val_mean_absolute_percentage_error: 5.5632\n",
      "Epoch 159/300\n",
      "90/90 [==============================] - 0s 233us/step - loss: 0.0018 - mean_absolute_percentage_error: 5.8264 - val_loss: 0.0040 - val_mean_absolute_percentage_error: 6.1050\n",
      "Epoch 160/300\n",
      "90/90 [==============================] - 0s 166us/step - loss: 0.0018 - mean_absolute_percentage_error: 5.7939 - val_loss: 0.0037 - val_mean_absolute_percentage_error: 5.8321\n",
      "Epoch 161/300\n",
      "90/90 [==============================] - 0s 211us/step - loss: 0.0017 - mean_absolute_percentage_error: 5.7012 - val_loss: 0.0034 - val_mean_absolute_percentage_error: 5.6160\n",
      "Epoch 162/300\n",
      "90/90 [==============================] - 0s 155us/step - loss: 0.0017 - mean_absolute_percentage_error: 5.6551 - val_loss: 0.0034 - val_mean_absolute_percentage_error: 5.5798\n",
      "Epoch 163/300\n",
      "90/90 [==============================] - 0s 144us/step - loss: 0.0017 - mean_absolute_percentage_error: 5.6236 - val_loss: 0.0033 - val_mean_absolute_percentage_error: 5.4525\n",
      "Epoch 164/300\n",
      "90/90 [==============================] - 0s 222us/step - loss: 0.0016 - mean_absolute_percentage_error: 5.5836 - val_loss: 0.0031 - val_mean_absolute_percentage_error: 5.3087\n",
      "Epoch 165/300\n",
      "90/90 [==============================] - 0s 177us/step - loss: 0.0016 - mean_absolute_percentage_error: 5.5123 - val_loss: 0.0034 - val_mean_absolute_percentage_error: 5.6202\n",
      "Epoch 166/300\n",
      "90/90 [==============================] - 0s 211us/step - loss: 0.0016 - mean_absolute_percentage_error: 5.5416 - val_loss: 0.0030 - val_mean_absolute_percentage_error: 5.2232\n",
      "Epoch 167/300\n",
      "90/90 [==============================] - 0s 222us/step - loss: 0.0016 - mean_absolute_percentage_error: 5.4567 - val_loss: 0.0032 - val_mean_absolute_percentage_error: 5.4346\n",
      "Epoch 168/300\n",
      "90/90 [==============================] - 0s 177us/step - loss: 0.0015 - mean_absolute_percentage_error: 5.3719 - val_loss: 0.0030 - val_mean_absolute_percentage_error: 5.1972\n",
      "Epoch 169/300\n",
      "90/90 [==============================] - 0s 177us/step - loss: 0.0015 - mean_absolute_percentage_error: 5.3559 - val_loss: 0.0030 - val_mean_absolute_percentage_error: 5.2363\n",
      "Epoch 170/300\n",
      "90/90 [==============================] - 0s 188us/step - loss: 0.0015 - mean_absolute_percentage_error: 5.3280 - val_loss: 0.0029 - val_mean_absolute_percentage_error: 5.1449\n",
      "Epoch 171/300\n",
      "90/90 [==============================] - 0s 310us/step - loss: 0.0015 - mean_absolute_percentage_error: 5.3435 - val_loss: 0.0028 - val_mean_absolute_percentage_error: 5.0089\n",
      "Epoch 172/300\n",
      "90/90 [==============================] - 0s 166us/step - loss: 0.0014 - mean_absolute_percentage_error: 5.2728 - val_loss: 0.0029 - val_mean_absolute_percentage_error: 5.0886\n",
      "Epoch 173/300\n",
      "90/90 [==============================] - 0s 177us/step - loss: 0.0014 - mean_absolute_percentage_error: 5.2297 - val_loss: 0.0028 - val_mean_absolute_percentage_error: 5.0500\n",
      "Epoch 174/300\n",
      "90/90 [==============================] - 0s 199us/step - loss: 0.0014 - mean_absolute_percentage_error: 5.1993 - val_loss: 0.0030 - val_mean_absolute_percentage_error: 5.1905\n",
      "Epoch 175/300\n",
      "90/90 [==============================] - 0s 166us/step - loss: 0.0014 - mean_absolute_percentage_error: 5.1573 - val_loss: 0.0026 - val_mean_absolute_percentage_error: 4.7836\n",
      "Epoch 176/300\n",
      "90/90 [==============================] - 0s 133us/step - loss: 0.0013 - mean_absolute_percentage_error: 5.1212 - val_loss: 0.0026 - val_mean_absolute_percentage_error: 4.8163\n",
      "Epoch 177/300\n",
      "90/90 [==============================] - 0s 200us/step - loss: 0.0013 - mean_absolute_percentage_error: 5.0963 - val_loss: 0.0029 - val_mean_absolute_percentage_error: 5.1127\n",
      "Epoch 178/300\n",
      "90/90 [==============================] - 0s 166us/step - loss: 0.0013 - mean_absolute_percentage_error: 5.0985 - val_loss: 0.0025 - val_mean_absolute_percentage_error: 4.6912\n",
      "Epoch 179/300\n",
      "90/90 [==============================] - 0s 188us/step - loss: 0.0013 - mean_absolute_percentage_error: 5.0525 - val_loss: 0.0026 - val_mean_absolute_percentage_error: 4.8049\n",
      "Epoch 180/300\n",
      "90/90 [==============================] - 0s 188us/step - loss: 0.0013 - mean_absolute_percentage_error: 5.0316 - val_loss: 0.0026 - val_mean_absolute_percentage_error: 4.8513\n",
      "Epoch 181/300\n",
      "90/90 [==============================] - 0s 188us/step - loss: 0.0013 - mean_absolute_percentage_error: 5.0476 - val_loss: 0.0024 - val_mean_absolute_percentage_error: 4.6123\n",
      "Epoch 182/300\n",
      "90/90 [==============================] - 0s 310us/step - loss: 0.0012 - mean_absolute_percentage_error: 4.9541 - val_loss: 0.0026 - val_mean_absolute_percentage_error: 4.7781\n",
      "Epoch 183/300\n",
      "90/90 [==============================] - 0s 188us/step - loss: 0.0012 - mean_absolute_percentage_error: 4.9878 - val_loss: 0.0024 - val_mean_absolute_percentage_error: 4.5733\n",
      "Epoch 184/300\n",
      "90/90 [==============================] - 0s 255us/step - loss: 0.0012 - mean_absolute_percentage_error: 4.9026 - val_loss: 0.0025 - val_mean_absolute_percentage_error: 4.7258\n",
      "Epoch 185/300\n",
      "90/90 [==============================] - 0s 155us/step - loss: 0.0012 - mean_absolute_percentage_error: 4.8927 - val_loss: 0.0024 - val_mean_absolute_percentage_error: 4.6030\n",
      "Epoch 186/300\n",
      "90/90 [==============================] - 0s 177us/step - loss: 0.0012 - mean_absolute_percentage_error: 4.8611 - val_loss: 0.0023 - val_mean_absolute_percentage_error: 4.5112\n",
      "Epoch 187/300\n",
      "90/90 [==============================] - 0s 211us/step - loss: 0.0012 - mean_absolute_percentage_error: 4.8680 - val_loss: 0.0023 - val_mean_absolute_percentage_error: 4.4044\n",
      "Epoch 188/300\n",
      "90/90 [==============================] - 0s 166us/step - loss: 0.0011 - mean_absolute_percentage_error: 4.8071 - val_loss: 0.0025 - val_mean_absolute_percentage_error: 4.6482\n",
      "Epoch 189/300\n",
      "90/90 [==============================] - 0s 155us/step - loss: 0.0011 - mean_absolute_percentage_error: 4.8160 - val_loss: 0.0024 - val_mean_absolute_percentage_error: 4.5732\n",
      "Epoch 190/300\n",
      "90/90 [==============================] - 0s 188us/step - loss: 0.0011 - mean_absolute_percentage_error: 4.7885 - val_loss: 0.0024 - val_mean_absolute_percentage_error: 4.5663\n",
      "Epoch 191/300\n",
      "90/90 [==============================] - 0s 211us/step - loss: 0.0011 - mean_absolute_percentage_error: 4.7554 - val_loss: 0.0022 - val_mean_absolute_percentage_error: 4.3038\n",
      "Epoch 192/300\n",
      "90/90 [==============================] - 0s 188us/step - loss: 0.0011 - mean_absolute_percentage_error: 4.7774 - val_loss: 0.0024 - val_mean_absolute_percentage_error: 4.5647\n",
      "Epoch 193/300\n",
      "90/90 [==============================] - 0s 211us/step - loss: 0.0011 - mean_absolute_percentage_error: 4.7013 - val_loss: 0.0021 - val_mean_absolute_percentage_error: 4.2205\n",
      "Epoch 194/300\n",
      "90/90 [==============================] - 0s 156us/step - loss: 0.0011 - mean_absolute_percentage_error: 4.6449 - val_loss: 0.0021 - val_mean_absolute_percentage_error: 4.2545\n",
      "Epoch 195/300\n",
      "90/90 [==============================] - 0s 144us/step - loss: 0.0011 - mean_absolute_percentage_error: 4.6989 - val_loss: 0.0023 - val_mean_absolute_percentage_error: 4.5264\n",
      "Epoch 196/300\n",
      "90/90 [==============================] - 0s 188us/step - loss: 0.0011 - mean_absolute_percentage_error: 4.6261 - val_loss: 0.0022 - val_mean_absolute_percentage_error: 4.3121\n",
      "Epoch 197/300\n",
      "90/90 [==============================] - 0s 211us/step - loss: 0.0010 - mean_absolute_percentage_error: 4.5878 - val_loss: 0.0021 - val_mean_absolute_percentage_error: 4.1531\n",
      "Epoch 198/300\n",
      "90/90 [==============================] - 0s 177us/step - loss: 0.0010 - mean_absolute_percentage_error: 4.5683 - val_loss: 0.0021 - val_mean_absolute_percentage_error: 4.2070\n",
      "Epoch 199/300\n",
      "90/90 [==============================] - 0s 166us/step - loss: 0.0010 - mean_absolute_percentage_error: 4.5422 - val_loss: 0.0022 - val_mean_absolute_percentage_error: 4.3214\n",
      "Epoch 200/300\n",
      "90/90 [==============================] - 0s 144us/step - loss: 0.0010 - mean_absolute_percentage_error: 4.5740 - val_loss: 0.0022 - val_mean_absolute_percentage_error: 4.3489\n",
      "Epoch 201/300\n",
      "90/90 [==============================] - 0s 177us/step - loss: 9.9951e-04 - mean_absolute_percentage_error: 4.5027 - val_loss: 0.0020 - val_mean_absolute_percentage_error: 4.1283\n",
      "Epoch 202/300\n",
      "90/90 [==============================] - ETA: 0s - loss: 0.0012 - mean_absolute_percentage_error: 4.69 - 0s 188us/step - loss: 9.9185e-04 - mean_absolute_percentage_error: 4.4569 - val_loss: 0.0020 - val_mean_absolute_percentage_error: 4.0315\n",
      "Epoch 203/300\n",
      "90/90 [==============================] - 0s 188us/step - loss: 9.9701e-04 - mean_absolute_percentage_error: 4.4901 - val_loss: 0.0021 - val_mean_absolute_percentage_error: 4.2264\n",
      "Epoch 204/300\n",
      "90/90 [==============================] - 0s 177us/step - loss: 9.7206e-04 - mean_absolute_percentage_error: 4.4360 - val_loss: 0.0020 - val_mean_absolute_percentage_error: 4.0869\n",
      "Epoch 205/300\n",
      "90/90 [==============================] - 0s 177us/step - loss: 9.6466e-04 - mean_absolute_percentage_error: 4.4096 - val_loss: 0.0019 - val_mean_absolute_percentage_error: 3.9452\n",
      "Epoch 206/300\n",
      "90/90 [==============================] - 0s 332us/step - loss: 9.5788e-04 - mean_absolute_percentage_error: 4.4279 - val_loss: 0.0020 - val_mean_absolute_percentage_error: 4.1754\n",
      "Epoch 207/300\n",
      "90/90 [==============================] - 0s 199us/step - loss: 9.5135e-04 - mean_absolute_percentage_error: 4.3976 - val_loss: 0.0019 - val_mean_absolute_percentage_error: 3.9673\n",
      "Epoch 208/300\n",
      "90/90 [==============================] - 0s 244us/step - loss: 9.3638e-04 - mean_absolute_percentage_error: 4.3470 - val_loss: 0.0020 - val_mean_absolute_percentage_error: 4.1450\n",
      "Epoch 209/300\n",
      "90/90 [==============================] - 0s 199us/step - loss: 9.2111e-04 - mean_absolute_percentage_error: 4.3004 - val_loss: 0.0019 - val_mean_absolute_percentage_error: 4.0292\n",
      "Epoch 210/300\n",
      "90/90 [==============================] - 0s 188us/step - loss: 9.1204e-04 - mean_absolute_percentage_error: 4.2687 - val_loss: 0.0018 - val_mean_absolute_percentage_error: 3.8004\n",
      "Epoch 211/300\n",
      "90/90 [==============================] - 0s 188us/step - loss: 9.0279e-04 - mean_absolute_percentage_error: 4.2416 - val_loss: 0.0019 - val_mean_absolute_percentage_error: 3.9796\n",
      "Epoch 212/300\n",
      "90/90 [==============================] - 0s 177us/step - loss: 8.9540e-04 - mean_absolute_percentage_error: 4.2305 - val_loss: 0.0018 - val_mean_absolute_percentage_error: 3.8643\n",
      "Epoch 213/300\n",
      "90/90 [==============================] - 0s 355us/step - loss: 8.8206e-04 - mean_absolute_percentage_error: 4.1978 - val_loss: 0.0019 - val_mean_absolute_percentage_error: 3.9561\n"
     ]
    },
    {
     "name": "stdout",
     "output_type": "stream",
     "text": [
      "Epoch 214/300\n",
      "90/90 [==============================] - 0s 177us/step - loss: 8.7285e-04 - mean_absolute_percentage_error: 4.1764 - val_loss: 0.0018 - val_mean_absolute_percentage_error: 3.8695\n",
      "Epoch 215/300\n",
      "90/90 [==============================] - 0s 155us/step - loss: 8.5989e-04 - mean_absolute_percentage_error: 4.1444 - val_loss: 0.0018 - val_mean_absolute_percentage_error: 3.8611\n",
      "Epoch 216/300\n",
      "90/90 [==============================] - 0s 133us/step - loss: 8.5158e-04 - mean_absolute_percentage_error: 4.1047 - val_loss: 0.0018 - val_mean_absolute_percentage_error: 3.8389\n",
      "Epoch 217/300\n",
      "90/90 [==============================] - 0s 244us/step - loss: 8.7372e-04 - mean_absolute_percentage_error: 4.1721 - val_loss: 0.0019 - val_mean_absolute_percentage_error: 3.9740\n",
      "Epoch 218/300\n",
      "90/90 [==============================] - 0s 155us/step - loss: 8.4549e-04 - mean_absolute_percentage_error: 4.0411 - val_loss: 0.0016 - val_mean_absolute_percentage_error: 3.6000\n",
      "Epoch 219/300\n",
      "90/90 [==============================] - 0s 211us/step - loss: 8.2290e-04 - mean_absolute_percentage_error: 3.9738 - val_loss: 0.0018 - val_mean_absolute_percentage_error: 3.8184\n",
      "Epoch 220/300\n",
      "90/90 [==============================] - 0s 222us/step - loss: 8.1297e-04 - mean_absolute_percentage_error: 3.9834 - val_loss: 0.0017 - val_mean_absolute_percentage_error: 3.7785\n",
      "Epoch 221/300\n",
      "90/90 [==============================] - 0s 255us/step - loss: 8.0393e-04 - mean_absolute_percentage_error: 3.9560 - val_loss: 0.0018 - val_mean_absolute_percentage_error: 3.8038\n",
      "Epoch 222/300\n",
      "90/90 [==============================] - 0s 222us/step - loss: 7.9614e-04 - mean_absolute_percentage_error: 3.9413 - val_loss: 0.0017 - val_mean_absolute_percentage_error: 3.6666\n",
      "Epoch 223/300\n",
      "90/90 [==============================] - 0s 233us/step - loss: 7.9394e-04 - mean_absolute_percentage_error: 3.9450 - val_loss: 0.0017 - val_mean_absolute_percentage_error: 3.7821\n",
      "Epoch 224/300\n",
      "90/90 [==============================] - 0s 277us/step - loss: 7.7771e-04 - mean_absolute_percentage_error: 3.8848 - val_loss: 0.0016 - val_mean_absolute_percentage_error: 3.5577\n",
      "Epoch 225/300\n",
      "90/90 [==============================] - 0s 255us/step - loss: 7.6840e-04 - mean_absolute_percentage_error: 3.8677 - val_loss: 0.0016 - val_mean_absolute_percentage_error: 3.5982\n",
      "Epoch 226/300\n",
      "90/90 [==============================] - 0s 310us/step - loss: 7.5740e-04 - mean_absolute_percentage_error: 3.8240 - val_loss: 0.0016 - val_mean_absolute_percentage_error: 3.5681\n",
      "Epoch 227/300\n",
      "90/90 [==============================] - 0s 177us/step - loss: 7.4687e-04 - mean_absolute_percentage_error: 3.7712 - val_loss: 0.0017 - val_mean_absolute_percentage_error: 3.7638\n",
      "Epoch 228/300\n",
      "90/90 [==============================] - 0s 144us/step - loss: 7.3981e-04 - mean_absolute_percentage_error: 3.7860 - val_loss: 0.0016 - val_mean_absolute_percentage_error: 3.5941\n",
      "Epoch 229/300\n",
      "90/90 [==============================] - 0s 200us/step - loss: 7.3045e-04 - mean_absolute_percentage_error: 3.7496 - val_loss: 0.0015 - val_mean_absolute_percentage_error: 3.4923\n",
      "Epoch 230/300\n",
      "90/90 [==============================] - 0s 199us/step - loss: 7.2153e-04 - mean_absolute_percentage_error: 3.7206 - val_loss: 0.0016 - val_mean_absolute_percentage_error: 3.5554\n",
      "Epoch 231/300\n",
      "90/90 [==============================] - 0s 133us/step - loss: 7.1477e-04 - mean_absolute_percentage_error: 3.7017 - val_loss: 0.0017 - val_mean_absolute_percentage_error: 3.6993\n",
      "Epoch 232/300\n",
      "90/90 [==============================] - 0s 166us/step - loss: 6.9929e-04 - mean_absolute_percentage_error: 3.6471 - val_loss: 0.0015 - val_mean_absolute_percentage_error: 3.4665\n",
      "Epoch 233/300\n",
      "90/90 [==============================] - 0s 288us/step - loss: 7.0107e-04 - mean_absolute_percentage_error: 3.6544 - val_loss: 0.0014 - val_mean_absolute_percentage_error: 3.4006\n",
      "Epoch 234/300\n",
      "90/90 [==============================] - 0s 344us/step - loss: 6.8133e-04 - mean_absolute_percentage_error: 3.6045 - val_loss: 0.0015 - val_mean_absolute_percentage_error: 3.5381\n",
      "Epoch 235/300\n",
      "90/90 [==============================] - 0s 310us/step - loss: 6.8625e-04 - mean_absolute_percentage_error: 3.6185 - val_loss: 0.0015 - val_mean_absolute_percentage_error: 3.4685\n",
      "Epoch 236/300\n",
      "90/90 [==============================] - 0s 277us/step - loss: 6.6448e-04 - mean_absolute_percentage_error: 3.5388 - val_loss: 0.0014 - val_mean_absolute_percentage_error: 3.4108\n",
      "Epoch 237/300\n",
      "90/90 [==============================] - 0s 321us/step - loss: 6.6730e-04 - mean_absolute_percentage_error: 3.5490 - val_loss: 0.0015 - val_mean_absolute_percentage_error: 3.4743\n",
      "Epoch 238/300\n",
      "90/90 [==============================] - 0s 166us/step - loss: 6.4673e-04 - mean_absolute_percentage_error: 3.4695 - val_loss: 0.0013 - val_mean_absolute_percentage_error: 3.2887\n",
      "Epoch 239/300\n",
      "90/90 [==============================] - 0s 432us/step - loss: 6.4991e-04 - mean_absolute_percentage_error: 3.5027 - val_loss: 0.0014 - val_mean_absolute_percentage_error: 3.3811\n",
      "Epoch 240/300\n",
      "90/90 [==============================] - 0s 377us/step - loss: 6.3083e-04 - mean_absolute_percentage_error: 3.4137 - val_loss: 0.0013 - val_mean_absolute_percentage_error: 3.2423\n",
      "Epoch 241/300\n",
      "90/90 [==============================] - ETA: 0s - loss: 8.3808e-04 - mean_absolute_percentage_error: 4.19 - 0s 355us/step - loss: 6.2934e-04 - mean_absolute_percentage_error: 3.3830 - val_loss: 0.0014 - val_mean_absolute_percentage_error: 3.3921\n",
      "Epoch 242/300\n",
      "90/90 [==============================] - 0s 277us/step - loss: 6.1758e-04 - mean_absolute_percentage_error: 3.3999 - val_loss: 0.0014 - val_mean_absolute_percentage_error: 3.3872\n",
      "Epoch 243/300\n",
      "90/90 [==============================] - 0s 188us/step - loss: 6.0513e-04 - mean_absolute_percentage_error: 3.3515 - val_loss: 0.0013 - val_mean_absolute_percentage_error: 3.2911\n",
      "Epoch 244/300\n",
      "90/90 [==============================] - 0s 166us/step - loss: 6.0635e-04 - mean_absolute_percentage_error: 3.3461 - val_loss: 0.0013 - val_mean_absolute_percentage_error: 3.2104\n",
      "Epoch 245/300\n",
      "90/90 [==============================] - 0s 211us/step - loss: 5.8855e-04 - mean_absolute_percentage_error: 3.2681 - val_loss: 0.0013 - val_mean_absolute_percentage_error: 3.2273\n",
      "Epoch 246/300\n",
      "90/90 [==============================] - 0s 188us/step - loss: 5.8203e-04 - mean_absolute_percentage_error: 3.2890 - val_loss: 0.0014 - val_mean_absolute_percentage_error: 3.4043\n",
      "Epoch 247/300\n",
      "90/90 [==============================] - 0s 211us/step - loss: 5.7986e-04 - mean_absolute_percentage_error: 3.2753 - val_loss: 0.0013 - val_mean_absolute_percentage_error: 3.1885\n",
      "Epoch 248/300\n",
      "90/90 [==============================] - 0s 310us/step - loss: 5.6303e-04 - mean_absolute_percentage_error: 3.1901 - val_loss: 0.0013 - val_mean_absolute_percentage_error: 3.1874\n",
      "Epoch 249/300\n",
      "90/90 [==============================] - 0s 233us/step - loss: 5.5811e-04 - mean_absolute_percentage_error: 3.1835 - val_loss: 0.0013 - val_mean_absolute_percentage_error: 3.1982\n",
      "Epoch 250/300\n",
      "90/90 [==============================] - 0s 155us/step - loss: 5.4801e-04 - mean_absolute_percentage_error: 3.1499 - val_loss: 0.0012 - val_mean_absolute_percentage_error: 3.1454\n",
      "Epoch 251/300\n",
      "90/90 [==============================] - 0s 288us/step - loss: 5.4033e-04 - mean_absolute_percentage_error: 3.1263 - val_loss: 0.0012 - val_mean_absolute_percentage_error: 3.0938\n",
      "Epoch 252/300\n",
      "90/90 [==============================] - 0s 188us/step - loss: 5.3595e-04 - mean_absolute_percentage_error: 3.1361 - val_loss: 0.0013 - val_mean_absolute_percentage_error: 3.1732\n",
      "Epoch 253/300\n",
      "90/90 [==============================] - 0s 155us/step - loss: 5.2809e-04 - mean_absolute_percentage_error: 3.0811 - val_loss: 0.0012 - val_mean_absolute_percentage_error: 3.0845\n",
      "Epoch 254/300\n",
      "90/90 [==============================] - 0s 133us/step - loss: 5.1984e-04 - mean_absolute_percentage_error: 3.0647 - val_loss: 0.0012 - val_mean_absolute_percentage_error: 3.0971\n",
      "Epoch 255/300\n",
      "90/90 [==============================] - 0s 355us/step - loss: 5.4449e-04 - mean_absolute_percentage_error: 3.1280 - val_loss: 0.0011 - val_mean_absolute_percentage_error: 2.8973\n",
      "Epoch 256/300\n",
      "90/90 [==============================] - 0s 266us/step - loss: 5.1284e-04 - mean_absolute_percentage_error: 3.0472 - val_loss: 0.0014 - val_mean_absolute_percentage_error: 3.3375\n",
      "Epoch 257/300\n",
      "90/90 [==============================] - 0s 177us/step - loss: 4.9806e-04 - mean_absolute_percentage_error: 2.9725 - val_loss: 0.0011 - val_mean_absolute_percentage_error: 3.0054\n",
      "Epoch 258/300\n",
      "90/90 [==============================] - 0s 280us/step - loss: 4.9103e-04 - mean_absolute_percentage_error: 2.8937 - val_loss: 0.0010 - val_mean_absolute_percentage_error: 2.8593\n",
      "Epoch 259/300\n",
      "90/90 [==============================] - 0s 244us/step - loss: 4.9556e-04 - mean_absolute_percentage_error: 2.9743 - val_loss: 0.0012 - val_mean_absolute_percentage_error: 3.1225\n",
      "Epoch 260/300\n",
      "90/90 [==============================] - 0s 188us/step - loss: 4.7082e-04 - mean_absolute_percentage_error: 2.8850 - val_loss: 0.0011 - val_mean_absolute_percentage_error: 2.9565\n",
      "Epoch 261/300\n",
      "90/90 [==============================] - 0s 277us/step - loss: 4.6956e-04 - mean_absolute_percentage_error: 2.8518 - val_loss: 0.0011 - val_mean_absolute_percentage_error: 2.8876\n",
      "Epoch 262/300\n",
      "90/90 [==============================] - 0s 255us/step - loss: 4.6068e-04 - mean_absolute_percentage_error: 2.8040 - val_loss: 0.0011 - val_mean_absolute_percentage_error: 2.9318\n",
      "Epoch 263/300\n",
      "90/90 [==============================] - 0s 277us/step - loss: 4.6587e-04 - mean_absolute_percentage_error: 2.8441 - val_loss: 0.0011 - val_mean_absolute_percentage_error: 3.0105\n",
      "Epoch 264/300\n",
      "90/90 [==============================] - 0s 188us/step - loss: 4.5722e-04 - mean_absolute_percentage_error: 2.7798 - val_loss: 9.7211e-04 - val_mean_absolute_percentage_error: 2.7640\n",
      "Epoch 265/300\n",
      "90/90 [==============================] - 0s 177us/step - loss: 4.4295e-04 - mean_absolute_percentage_error: 2.7246 - val_loss: 0.0011 - val_mean_absolute_percentage_error: 2.9860\n",
      "Epoch 266/300\n",
      "90/90 [==============================] - 0s 256us/step - loss: 4.3281e-04 - mean_absolute_percentage_error: 2.7440 - val_loss: 9.8905e-04 - val_mean_absolute_percentage_error: 2.7906\n",
      "Epoch 267/300\n",
      "90/90 [==============================] - 0s 310us/step - loss: 4.2586e-04 - mean_absolute_percentage_error: 2.7088 - val_loss: 9.9612e-04 - val_mean_absolute_percentage_error: 2.8018\n",
      "Epoch 268/300\n",
      "90/90 [==============================] - 0s 266us/step - loss: 4.2153e-04 - mean_absolute_percentage_error: 2.7096 - val_loss: 0.0010 - val_mean_absolute_percentage_error: 2.8412\n",
      "Epoch 269/300\n",
      "90/90 [==============================] - 0s 166us/step - loss: 4.1286e-04 - mean_absolute_percentage_error: 2.6430 - val_loss: 9.4341e-04 - val_mean_absolute_percentage_error: 2.7201\n",
      "Epoch 270/300\n",
      "90/90 [==============================] - 0s 177us/step - loss: 4.0452e-04 - mean_absolute_percentage_error: 2.6144 - val_loss: 9.6628e-04 - val_mean_absolute_percentage_error: 2.7567\n",
      "Epoch 271/300\n",
      "90/90 [==============================] - 0s 199us/step - loss: 4.0008e-04 - mean_absolute_percentage_error: 2.6020 - val_loss: 0.0010 - val_mean_absolute_percentage_error: 2.8251\n",
      "Epoch 272/300\n",
      "90/90 [==============================] - 0s 222us/step - loss: 3.9640e-04 - mean_absolute_percentage_error: 2.5714 - val_loss: 9.0947e-04 - val_mean_absolute_percentage_error: 2.6667\n",
      "Epoch 273/300\n",
      "90/90 [==============================] - 0s 445us/step - loss: 3.8657e-04 - mean_absolute_percentage_error: 2.5535 - val_loss: 9.5743e-04 - val_mean_absolute_percentage_error: 2.7432\n",
      "Epoch 274/300\n",
      "90/90 [==============================] - 0s 188us/step - loss: 3.7963e-04 - mean_absolute_percentage_error: 2.5249 - val_loss: 9.3324e-04 - val_mean_absolute_percentage_error: 2.7058\n",
      "Epoch 275/300\n",
      "90/90 [==============================] - 0s 166us/step - loss: 3.7593e-04 - mean_absolute_percentage_error: 2.4957 - val_loss: 8.9917e-04 - val_mean_absolute_percentage_error: 2.6515\n",
      "Epoch 276/300\n",
      "90/90 [==============================] - 0s 454us/step - loss: 3.6843e-04 - mean_absolute_percentage_error: 2.4721 - val_loss: 9.4015e-04 - val_mean_absolute_percentage_error: 2.7161\n",
      "Epoch 277/300\n",
      "90/90 [==============================] - 0s 211us/step - loss: 3.6232e-04 - mean_absolute_percentage_error: 2.4582 - val_loss: 8.9460e-04 - val_mean_absolute_percentage_error: 2.6447\n",
      "Epoch 278/300\n",
      "90/90 [==============================] - 0s 155us/step - loss: 3.5669e-04 - mean_absolute_percentage_error: 2.4213 - val_loss: 8.5493e-04 - val_mean_absolute_percentage_error: 2.5802\n",
      "Epoch 279/300\n",
      "90/90 [==============================] - 0s 477us/step - loss: 3.5216e-04 - mean_absolute_percentage_error: 2.3860 - val_loss: 8.9506e-04 - val_mean_absolute_percentage_error: 2.6467\n",
      "Epoch 280/300\n",
      "90/90 [==============================] - 0s 222us/step - loss: 3.4559e-04 - mean_absolute_percentage_error: 2.3768 - val_loss: 8.7141e-04 - val_mean_absolute_percentage_error: 2.6089\n",
      "Epoch 281/300\n",
      "90/90 [==============================] - 0s 144us/step - loss: 3.3990e-04 - mean_absolute_percentage_error: 2.3270 - val_loss: 8.0728e-04 - val_mean_absolute_percentage_error: 2.5007\n",
      "Epoch 282/300\n",
      "90/90 [==============================] - 0s 177us/step - loss: 3.3684e-04 - mean_absolute_percentage_error: 2.2964 - val_loss: 8.2763e-04 - val_mean_absolute_percentage_error: 2.5354\n",
      "Epoch 283/300\n",
      "90/90 [==============================] - 0s 133us/step - loss: 3.3131e-04 - mean_absolute_percentage_error: 2.3058 - val_loss: 8.8525e-04 - val_mean_absolute_percentage_error: 2.6301\n",
      "Epoch 284/300\n",
      "90/90 [==============================] - 0s 133us/step - loss: 3.2119e-04 - mean_absolute_percentage_error: 2.2770 - val_loss: 7.6644e-04 - val_mean_absolute_percentage_error: 2.4295\n",
      "Epoch 285/300\n",
      "90/90 [==============================] - 0s 277us/step - loss: 3.2256e-04 - mean_absolute_percentage_error: 2.2569 - val_loss: 7.4953e-04 - val_mean_absolute_percentage_error: 2.4002\n",
      "Epoch 286/300\n",
      "90/90 [==============================] - 0s 477us/step - loss: 3.2096e-04 - mean_absolute_percentage_error: 2.2753 - val_loss: 8.5191e-04 - val_mean_absolute_percentage_error: 2.5760\n",
      "Epoch 287/300\n",
      "90/90 [==============================] - 0s 166us/step - loss: 3.1430e-04 - mean_absolute_percentage_error: 2.2237 - val_loss: 7.0542e-04 - val_mean_absolute_percentage_error: 2.3196\n",
      "Epoch 288/300\n",
      "90/90 [==============================] - 0s 144us/step - loss: 3.0828e-04 - mean_absolute_percentage_error: 2.2437 - val_loss: 8.3443e-04 - val_mean_absolute_percentage_error: 2.5480\n",
      "Epoch 289/300\n",
      "90/90 [==============================] - 0s 155us/step - loss: 3.0609e-04 - mean_absolute_percentage_error: 2.1805 - val_loss: 7.1088e-04 - val_mean_absolute_percentage_error: 2.3316\n",
      "Epoch 290/300\n",
      "90/90 [==============================] - 0s 488us/step - loss: 2.9066e-04 - mean_absolute_percentage_error: 2.1538 - val_loss: 7.5531e-04 - val_mean_absolute_percentage_error: 2.4134\n",
      "Epoch 291/300\n",
      "90/90 [==============================] - 0s 188us/step - loss: 2.8763e-04 - mean_absolute_percentage_error: 2.1412 - val_loss: 7.2976e-04 - val_mean_absolute_percentage_error: 2.3680\n",
      "Epoch 292/300\n",
      "90/90 [==============================] - 0s 166us/step - loss: 2.9503e-04 - mean_absolute_percentage_error: 2.1450 - val_loss: 7.1077e-04 - val_mean_absolute_percentage_error: 2.3341\n",
      "Epoch 293/300\n",
      "90/90 [==============================] - 0s 333us/step - loss: 2.8141e-04 - mean_absolute_percentage_error: 2.0707 - val_loss: 7.6822e-04 - val_mean_absolute_percentage_error: 2.4380\n",
      "Epoch 294/300\n",
      "90/90 [==============================] - 0s 543us/step - loss: 2.8307e-04 - mean_absolute_percentage_error: 2.0716 - val_loss: 6.8532e-04 - val_mean_absolute_percentage_error: 2.2869\n",
      "Epoch 295/300\n",
      "90/90 [==============================] - 0s 188us/step - loss: 2.7049e-04 - mean_absolute_percentage_error: 2.0278 - val_loss: 7.3359e-04 - val_mean_absolute_percentage_error: 2.3763\n",
      "Epoch 296/300\n",
      "90/90 [==============================] - 0s 144us/step - loss: 2.6469e-04 - mean_absolute_percentage_error: 2.0106 - val_loss: 6.4245e-04 - val_mean_absolute_percentage_error: 2.2048\n",
      "Epoch 297/300\n",
      "90/90 [==============================] - 0s 122us/step - loss: 2.6272e-04 - mean_absolute_percentage_error: 1.9936 - val_loss: 6.9406e-04 - val_mean_absolute_percentage_error: 2.3055\n"
     ]
    },
    {
     "name": "stdout",
     "output_type": "stream",
     "text": [
      "Epoch 298/300\n",
      "90/90 [==============================] - 0s 310us/step - loss: 2.5904e-04 - mean_absolute_percentage_error: 1.9733 - val_loss: 6.1997e-04 - val_mean_absolute_percentage_error: 2.1614\n",
      "Epoch 299/300\n",
      "90/90 [==============================] - 0s 277us/step - loss: 2.5553e-04 - mean_absolute_percentage_error: 1.9620 - val_loss: 6.8520e-04 - val_mean_absolute_percentage_error: 2.2906\n",
      "Epoch 300/300\n",
      "90/90 [==============================] - 0s 144us/step - loss: 2.4853e-04 - mean_absolute_percentage_error: 1.9209 - val_loss: 6.0311e-04 - val_mean_absolute_percentage_error: 2.1281\n"
     ]
    },
    {
     "data": {
      "text/plain": [
       "<keras.callbacks.callbacks.History at 0x1683358c4a8>"
      ]
     },
     "execution_count": 19,
     "metadata": {},
     "output_type": "execute_result"
    }
   ],
   "source": [
    "model.fit(x_train, y_train, batch_size=10,epochs=300, validation_data=(x_val, y_val))"
   ]
  },
  {
   "cell_type": "code",
   "execution_count": 47,
   "metadata": {},
   "outputs": [
    {
     "name": "stdout",
     "output_type": "stream",
     "text": [
      "\r",
      "15/15 [==============================] - 0s 67us/step\n"
     ]
    }
   ],
   "source": [
    "resultados=model.evaluate(x_test, y_test)"
   ]
  },
  {
   "cell_type": "code",
   "execution_count": 48,
   "metadata": {},
   "outputs": [
    {
     "name": "stdout",
     "output_type": "stream",
     "text": [
      "15/15 [==============================] - 0s 67us/step\n",
      "[0.27679336071014404, 154.5222930908203]\n"
     ]
    }
   ],
   "source": [
    "print(model.evaluate(x_test, y_test))"
   ]
  },
  {
   "cell_type": "code",
   "execution_count": 49,
   "metadata": {},
   "outputs": [
    {
     "name": "stdout",
     "output_type": "stream",
     "text": [
      "['loss', 'mean_absolute_percentage_error']\n"
     ]
    }
   ],
   "source": [
    "print(model.metrics_names)"
   ]
  },
  {
   "cell_type": "code",
   "execution_count": 50,
   "metadata": {},
   "outputs": [
    {
     "name": "stdout",
     "output_type": "stream",
     "text": [
      "loss : 0.27679336071014404\n",
      "mean_absolute_percentage_error : 154.5222930908203\n"
     ]
    }
   ],
   "source": [
    "for i in range(len(model.metrics_names)):\n",
    "    print(model.metrics_names[i],\":\",resultados[i])"
   ]
  },
  {
   "cell_type": "code",
   "execution_count": 51,
   "metadata": {},
   "outputs": [
    {
     "name": "stdout",
     "output_type": "stream",
     "text": [
      "[[0.9150749 ]\n",
      " [0.9146511 ]\n",
      " [0.9142264 ]\n",
      " [0.9138007 ]\n",
      " [0.913374  ]\n",
      " [0.91294646]\n",
      " [0.96848905]\n",
      " [0.96811724]\n",
      " [0.9677446 ]\n",
      " [0.9673712 ]\n",
      " [0.96699685]\n",
      " [0.9666219 ]\n",
      " [0.96624607]\n",
      " [0.9658695 ]\n",
      " [0.9654921 ]]\n"
     ]
    }
   ],
   "source": [
    "prediccion=model.predict(x_test)\n",
    "print(prediccion)"
   ]
  },
  {
   "cell_type": "code",
   "execution_count": 52,
   "metadata": {},
   "outputs": [
    {
     "data": {
      "text/plain": [
       "array([[0.96699685],\n",
       "       [0.9666219 ],\n",
       "       [0.96624607],\n",
       "       [0.9658695 ],\n",
       "       [0.9654921 ]], dtype=float32)"
      ]
     },
     "execution_count": 52,
     "metadata": {},
     "output_type": "execute_result"
    }
   ],
   "source": [
    "prediccion[10:]"
   ]
  },
  {
   "cell_type": "code",
   "execution_count": null,
   "metadata": {},
   "outputs": [],
   "source": []
  },
  {
   "cell_type": "code",
   "execution_count": null,
   "metadata": {},
   "outputs": [],
   "source": []
  }
 ],
 "metadata": {
  "kernelspec": {
   "display_name": "Python 3",
   "language": "python",
   "name": "python3"
  },
  "language_info": {
   "codemirror_mode": {
    "name": "ipython",
    "version": 3
   },
   "file_extension": ".py",
   "mimetype": "text/x-python",
   "name": "python",
   "nbconvert_exporter": "python",
   "pygments_lexer": "ipython3",
   "version": "3.8.5"
  }
 },
 "nbformat": 4,
 "nbformat_minor": 2
}
